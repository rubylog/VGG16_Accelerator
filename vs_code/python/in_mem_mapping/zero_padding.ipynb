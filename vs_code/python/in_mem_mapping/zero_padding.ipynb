{
 "cells": [
  {
   "cell_type": "code",
   "execution_count": 37,
   "metadata": {},
   "outputs": [],
   "source": [
    "def generate_tile(signal):\n",
    "\n",
    "    tile_on_buffer = []\n",
    "\n",
    "    row_A = []\n",
    "    row_B = []\n",
    "    row_C = []\n",
    "    \n",
    "    if signal in [1, 2, 3, 4]:\n",
    "        max_row = 15\n",
    "        max_col = 15\n",
    "    elif signal in [5, 7]:\n",
    "        max_row = 16\n",
    "        max_col = 15\n",
    "    elif signal in [6, 8]:\n",
    "        max_row = 15\n",
    "        max_col = 16\n",
    "    else: # signal == 0\n",
    "        max_row = 16\n",
    "        max_col = 16\n",
    "\n",
    "    for i in range(max_col):\n",
    "        row_A.append('A')\n",
    "        row_B.append('B')\n",
    "        row_C.append('C')\n",
    "        \n",
    "    k = 0\n",
    "    \n",
    "    while k < max_row:\n",
    "        if k % 3 == 0:\n",
    "            tile_on_buffer.append(row_A)\n",
    "        elif k % 3 == 1:\n",
    "            tile_on_buffer.append(row_B)\n",
    "        else: \n",
    "            tile_on_buffer.append(row_C)\n",
    "        \n",
    "        k += 1\n",
    "        \n",
    "    return tile_on_buffer"
   ]
  },
  {
   "cell_type": "code",
   "execution_count": 55,
   "metadata": {},
   "outputs": [],
   "source": [
    "def zero_padding_on_tile(signal):\n",
    "    \n",
    "    zero_tile = [] # 16 x 16 tile filled by zero\n",
    "    \n",
    "    zero_tile = [['0' for _ in range(16)] for _ in range(16)]\n",
    "    \n",
    "    tile_on_buffer = generate_tile(signal)\n",
    "    \n",
    "    #print(tile_on_buffer)\n",
    "    #print(zero_tile)\n",
    "    \n",
    "    if signal == 1:\n",
    "        for k in range(15):\n",
    "            zero_tile[k+1][1:] = tile_on_buffer[k][:]\n",
    "    elif signal == 2:\n",
    "        for k in range(15):\n",
    "            zero_tile[k+1][:15] = tile_on_buffer[k][:]\n",
    "    elif signal == 3:\n",
    "        for k in range(15):\n",
    "            zero_tile[k][:15] = tile_on_buffer[k][:]\n",
    "    elif signal == 4:\n",
    "        for k in range(15):\n",
    "            zero_tile[k][1:] = tile_on_buffer[k][:]\n",
    "            \n",
    "    elif signal == 5:\n",
    "        for k in range(16):\n",
    "            zero_tile[k][1:] = tile_on_buffer[k][:]\n",
    "    elif signal == 6:\n",
    "        for k in range(15):\n",
    "            zero_tile[k+1][:] = tile_on_buffer[k][:]\n",
    "    elif signal == 7:\n",
    "        for k in range(16):\n",
    "            zero_tile[k][:15] = tile_on_buffer[k][:]\n",
    "    elif signal == 8:\n",
    "        for k in range(15):\n",
    "            zero_tile[k][:] = tile_on_buffer[k][:]\n",
    "    else: # signal == 0\n",
    "        zero_tile = tile_on_buffer\n",
    "    \n",
    "    \n",
    "    zero_padding_tile = zero_tile\n",
    "    \n",
    "    return zero_padding_tile"
   ]
  },
  {
   "cell_type": "code",
   "execution_count": 57,
   "metadata": {},
   "outputs": [],
   "source": [
    "def enable_code_generate(signal):\n",
    "    \n",
    "    zero_padding_tile = zero_padding_on_tile(signal)\n",
    "    \n",
    "    enable_code = []\n",
    "    \n",
    "    for i in range(14):\n",
    "        reg_x3 = []\n",
    "        for j in range(16):\n",
    "            reg_one = zero_padding_tile[i+0][j]\n",
    "            reg_two = zero_padding_tile[i+1][j]\n",
    "            reg_three = zero_padding_tile[i+2][j]\n",
    "            reg_x3_ = [reg_one, reg_two, reg_three]\n",
    "            reg_x3.append(''.join(reg_x3_))\n",
    "        enable_code.append(reg_x3)\n",
    "\n",
    "    return enable_code\n",
    "\n",
    "# enable code shape : 14 x 16 (initial 3clk)"
   ]
  },
  {
   "cell_type": "code",
   "execution_count": 58,
   "metadata": {},
   "outputs": [
    {
     "name": "stdout",
     "output_type": "stream",
     "text": [
      "[['ABC', 'ABC', 'ABC', 'ABC', 'ABC', 'ABC', 'ABC', 'ABC', 'ABC', 'ABC', 'ABC', 'ABC', 'ABC', 'ABC', 'ABC', 'ABC'], ['BCA', 'BCA', 'BCA', 'BCA', 'BCA', 'BCA', 'BCA', 'BCA', 'BCA', 'BCA', 'BCA', 'BCA', 'BCA', 'BCA', 'BCA', 'BCA'], ['CAB', 'CAB', 'CAB', 'CAB', 'CAB', 'CAB', 'CAB', 'CAB', 'CAB', 'CAB', 'CAB', 'CAB', 'CAB', 'CAB', 'CAB', 'CAB'], ['ABC', 'ABC', 'ABC', 'ABC', 'ABC', 'ABC', 'ABC', 'ABC', 'ABC', 'ABC', 'ABC', 'ABC', 'ABC', 'ABC', 'ABC', 'ABC'], ['BCA', 'BCA', 'BCA', 'BCA', 'BCA', 'BCA', 'BCA', 'BCA', 'BCA', 'BCA', 'BCA', 'BCA', 'BCA', 'BCA', 'BCA', 'BCA'], ['CAB', 'CAB', 'CAB', 'CAB', 'CAB', 'CAB', 'CAB', 'CAB', 'CAB', 'CAB', 'CAB', 'CAB', 'CAB', 'CAB', 'CAB', 'CAB'], ['ABC', 'ABC', 'ABC', 'ABC', 'ABC', 'ABC', 'ABC', 'ABC', 'ABC', 'ABC', 'ABC', 'ABC', 'ABC', 'ABC', 'ABC', 'ABC'], ['BCA', 'BCA', 'BCA', 'BCA', 'BCA', 'BCA', 'BCA', 'BCA', 'BCA', 'BCA', 'BCA', 'BCA', 'BCA', 'BCA', 'BCA', 'BCA'], ['CAB', 'CAB', 'CAB', 'CAB', 'CAB', 'CAB', 'CAB', 'CAB', 'CAB', 'CAB', 'CAB', 'CAB', 'CAB', 'CAB', 'CAB', 'CAB'], ['ABC', 'ABC', 'ABC', 'ABC', 'ABC', 'ABC', 'ABC', 'ABC', 'ABC', 'ABC', 'ABC', 'ABC', 'ABC', 'ABC', 'ABC', 'ABC'], ['BCA', 'BCA', 'BCA', 'BCA', 'BCA', 'BCA', 'BCA', 'BCA', 'BCA', 'BCA', 'BCA', 'BCA', 'BCA', 'BCA', 'BCA', 'BCA'], ['CAB', 'CAB', 'CAB', 'CAB', 'CAB', 'CAB', 'CAB', 'CAB', 'CAB', 'CAB', 'CAB', 'CAB', 'CAB', 'CAB', 'CAB', 'CAB'], ['ABC', 'ABC', 'ABC', 'ABC', 'ABC', 'ABC', 'ABC', 'ABC', 'ABC', 'ABC', 'ABC', 'ABC', 'ABC', 'ABC', 'ABC', 'ABC'], ['BCA', 'BCA', 'BCA', 'BCA', 'BCA', 'BCA', 'BCA', 'BCA', 'BCA', 'BCA', 'BCA', 'BCA', 'BCA', 'BCA', 'BCA', 'BCA']]\n",
      "\n",
      "[['000', '0AB', '0AB', '0AB', '0AB', '0AB', '0AB', '0AB', '0AB', '0AB', '0AB', '0AB', '0AB', '0AB', '0AB', '0AB'], ['000', 'ABC', 'ABC', 'ABC', 'ABC', 'ABC', 'ABC', 'ABC', 'ABC', 'ABC', 'ABC', 'ABC', 'ABC', 'ABC', 'ABC', 'ABC'], ['000', 'BCA', 'BCA', 'BCA', 'BCA', 'BCA', 'BCA', 'BCA', 'BCA', 'BCA', 'BCA', 'BCA', 'BCA', 'BCA', 'BCA', 'BCA'], ['000', 'CAB', 'CAB', 'CAB', 'CAB', 'CAB', 'CAB', 'CAB', 'CAB', 'CAB', 'CAB', 'CAB', 'CAB', 'CAB', 'CAB', 'CAB'], ['000', 'ABC', 'ABC', 'ABC', 'ABC', 'ABC', 'ABC', 'ABC', 'ABC', 'ABC', 'ABC', 'ABC', 'ABC', 'ABC', 'ABC', 'ABC'], ['000', 'BCA', 'BCA', 'BCA', 'BCA', 'BCA', 'BCA', 'BCA', 'BCA', 'BCA', 'BCA', 'BCA', 'BCA', 'BCA', 'BCA', 'BCA'], ['000', 'CAB', 'CAB', 'CAB', 'CAB', 'CAB', 'CAB', 'CAB', 'CAB', 'CAB', 'CAB', 'CAB', 'CAB', 'CAB', 'CAB', 'CAB'], ['000', 'ABC', 'ABC', 'ABC', 'ABC', 'ABC', 'ABC', 'ABC', 'ABC', 'ABC', 'ABC', 'ABC', 'ABC', 'ABC', 'ABC', 'ABC'], ['000', 'BCA', 'BCA', 'BCA', 'BCA', 'BCA', 'BCA', 'BCA', 'BCA', 'BCA', 'BCA', 'BCA', 'BCA', 'BCA', 'BCA', 'BCA'], ['000', 'CAB', 'CAB', 'CAB', 'CAB', 'CAB', 'CAB', 'CAB', 'CAB', 'CAB', 'CAB', 'CAB', 'CAB', 'CAB', 'CAB', 'CAB'], ['000', 'ABC', 'ABC', 'ABC', 'ABC', 'ABC', 'ABC', 'ABC', 'ABC', 'ABC', 'ABC', 'ABC', 'ABC', 'ABC', 'ABC', 'ABC'], ['000', 'BCA', 'BCA', 'BCA', 'BCA', 'BCA', 'BCA', 'BCA', 'BCA', 'BCA', 'BCA', 'BCA', 'BCA', 'BCA', 'BCA', 'BCA'], ['000', 'CAB', 'CAB', 'CAB', 'CAB', 'CAB', 'CAB', 'CAB', 'CAB', 'CAB', 'CAB', 'CAB', 'CAB', 'CAB', 'CAB', 'CAB'], ['000', 'ABC', 'ABC', 'ABC', 'ABC', 'ABC', 'ABC', 'ABC', 'ABC', 'ABC', 'ABC', 'ABC', 'ABC', 'ABC', 'ABC', 'ABC']]\n",
      "\n",
      "[['0AB', '0AB', '0AB', '0AB', '0AB', '0AB', '0AB', '0AB', '0AB', '0AB', '0AB', '0AB', '0AB', '0AB', '0AB', '000'], ['ABC', 'ABC', 'ABC', 'ABC', 'ABC', 'ABC', 'ABC', 'ABC', 'ABC', 'ABC', 'ABC', 'ABC', 'ABC', 'ABC', 'ABC', '000'], ['BCA', 'BCA', 'BCA', 'BCA', 'BCA', 'BCA', 'BCA', 'BCA', 'BCA', 'BCA', 'BCA', 'BCA', 'BCA', 'BCA', 'BCA', '000'], ['CAB', 'CAB', 'CAB', 'CAB', 'CAB', 'CAB', 'CAB', 'CAB', 'CAB', 'CAB', 'CAB', 'CAB', 'CAB', 'CAB', 'CAB', '000'], ['ABC', 'ABC', 'ABC', 'ABC', 'ABC', 'ABC', 'ABC', 'ABC', 'ABC', 'ABC', 'ABC', 'ABC', 'ABC', 'ABC', 'ABC', '000'], ['BCA', 'BCA', 'BCA', 'BCA', 'BCA', 'BCA', 'BCA', 'BCA', 'BCA', 'BCA', 'BCA', 'BCA', 'BCA', 'BCA', 'BCA', '000'], ['CAB', 'CAB', 'CAB', 'CAB', 'CAB', 'CAB', 'CAB', 'CAB', 'CAB', 'CAB', 'CAB', 'CAB', 'CAB', 'CAB', 'CAB', '000'], ['ABC', 'ABC', 'ABC', 'ABC', 'ABC', 'ABC', 'ABC', 'ABC', 'ABC', 'ABC', 'ABC', 'ABC', 'ABC', 'ABC', 'ABC', '000'], ['BCA', 'BCA', 'BCA', 'BCA', 'BCA', 'BCA', 'BCA', 'BCA', 'BCA', 'BCA', 'BCA', 'BCA', 'BCA', 'BCA', 'BCA', '000'], ['CAB', 'CAB', 'CAB', 'CAB', 'CAB', 'CAB', 'CAB', 'CAB', 'CAB', 'CAB', 'CAB', 'CAB', 'CAB', 'CAB', 'CAB', '000'], ['ABC', 'ABC', 'ABC', 'ABC', 'ABC', 'ABC', 'ABC', 'ABC', 'ABC', 'ABC', 'ABC', 'ABC', 'ABC', 'ABC', 'ABC', '000'], ['BCA', 'BCA', 'BCA', 'BCA', 'BCA', 'BCA', 'BCA', 'BCA', 'BCA', 'BCA', 'BCA', 'BCA', 'BCA', 'BCA', 'BCA', '000'], ['CAB', 'CAB', 'CAB', 'CAB', 'CAB', 'CAB', 'CAB', 'CAB', 'CAB', 'CAB', 'CAB', 'CAB', 'CAB', 'CAB', 'CAB', '000'], ['ABC', 'ABC', 'ABC', 'ABC', 'ABC', 'ABC', 'ABC', 'ABC', 'ABC', 'ABC', 'ABC', 'ABC', 'ABC', 'ABC', 'ABC', '000']]\n",
      "\n",
      "[['ABC', 'ABC', 'ABC', 'ABC', 'ABC', 'ABC', 'ABC', 'ABC', 'ABC', 'ABC', 'ABC', 'ABC', 'ABC', 'ABC', 'ABC', '000'], ['BCA', 'BCA', 'BCA', 'BCA', 'BCA', 'BCA', 'BCA', 'BCA', 'BCA', 'BCA', 'BCA', 'BCA', 'BCA', 'BCA', 'BCA', '000'], ['CAB', 'CAB', 'CAB', 'CAB', 'CAB', 'CAB', 'CAB', 'CAB', 'CAB', 'CAB', 'CAB', 'CAB', 'CAB', 'CAB', 'CAB', '000'], ['ABC', 'ABC', 'ABC', 'ABC', 'ABC', 'ABC', 'ABC', 'ABC', 'ABC', 'ABC', 'ABC', 'ABC', 'ABC', 'ABC', 'ABC', '000'], ['BCA', 'BCA', 'BCA', 'BCA', 'BCA', 'BCA', 'BCA', 'BCA', 'BCA', 'BCA', 'BCA', 'BCA', 'BCA', 'BCA', 'BCA', '000'], ['CAB', 'CAB', 'CAB', 'CAB', 'CAB', 'CAB', 'CAB', 'CAB', 'CAB', 'CAB', 'CAB', 'CAB', 'CAB', 'CAB', 'CAB', '000'], ['ABC', 'ABC', 'ABC', 'ABC', 'ABC', 'ABC', 'ABC', 'ABC', 'ABC', 'ABC', 'ABC', 'ABC', 'ABC', 'ABC', 'ABC', '000'], ['BCA', 'BCA', 'BCA', 'BCA', 'BCA', 'BCA', 'BCA', 'BCA', 'BCA', 'BCA', 'BCA', 'BCA', 'BCA', 'BCA', 'BCA', '000'], ['CAB', 'CAB', 'CAB', 'CAB', 'CAB', 'CAB', 'CAB', 'CAB', 'CAB', 'CAB', 'CAB', 'CAB', 'CAB', 'CAB', 'CAB', '000'], ['ABC', 'ABC', 'ABC', 'ABC', 'ABC', 'ABC', 'ABC', 'ABC', 'ABC', 'ABC', 'ABC', 'ABC', 'ABC', 'ABC', 'ABC', '000'], ['BCA', 'BCA', 'BCA', 'BCA', 'BCA', 'BCA', 'BCA', 'BCA', 'BCA', 'BCA', 'BCA', 'BCA', 'BCA', 'BCA', 'BCA', '000'], ['CAB', 'CAB', 'CAB', 'CAB', 'CAB', 'CAB', 'CAB', 'CAB', 'CAB', 'CAB', 'CAB', 'CAB', 'CAB', 'CAB', 'CAB', '000'], ['ABC', 'ABC', 'ABC', 'ABC', 'ABC', 'ABC', 'ABC', 'ABC', 'ABC', 'ABC', 'ABC', 'ABC', 'ABC', 'ABC', 'ABC', '000'], ['BC0', 'BC0', 'BC0', 'BC0', 'BC0', 'BC0', 'BC0', 'BC0', 'BC0', 'BC0', 'BC0', 'BC0', 'BC0', 'BC0', 'BC0', '000']]\n",
      "\n",
      "[['000', 'ABC', 'ABC', 'ABC', 'ABC', 'ABC', 'ABC', 'ABC', 'ABC', 'ABC', 'ABC', 'ABC', 'ABC', 'ABC', 'ABC', 'ABC'], ['000', 'BCA', 'BCA', 'BCA', 'BCA', 'BCA', 'BCA', 'BCA', 'BCA', 'BCA', 'BCA', 'BCA', 'BCA', 'BCA', 'BCA', 'BCA'], ['000', 'CAB', 'CAB', 'CAB', 'CAB', 'CAB', 'CAB', 'CAB', 'CAB', 'CAB', 'CAB', 'CAB', 'CAB', 'CAB', 'CAB', 'CAB'], ['000', 'ABC', 'ABC', 'ABC', 'ABC', 'ABC', 'ABC', 'ABC', 'ABC', 'ABC', 'ABC', 'ABC', 'ABC', 'ABC', 'ABC', 'ABC'], ['000', 'BCA', 'BCA', 'BCA', 'BCA', 'BCA', 'BCA', 'BCA', 'BCA', 'BCA', 'BCA', 'BCA', 'BCA', 'BCA', 'BCA', 'BCA'], ['000', 'CAB', 'CAB', 'CAB', 'CAB', 'CAB', 'CAB', 'CAB', 'CAB', 'CAB', 'CAB', 'CAB', 'CAB', 'CAB', 'CAB', 'CAB'], ['000', 'ABC', 'ABC', 'ABC', 'ABC', 'ABC', 'ABC', 'ABC', 'ABC', 'ABC', 'ABC', 'ABC', 'ABC', 'ABC', 'ABC', 'ABC'], ['000', 'BCA', 'BCA', 'BCA', 'BCA', 'BCA', 'BCA', 'BCA', 'BCA', 'BCA', 'BCA', 'BCA', 'BCA', 'BCA', 'BCA', 'BCA'], ['000', 'CAB', 'CAB', 'CAB', 'CAB', 'CAB', 'CAB', 'CAB', 'CAB', 'CAB', 'CAB', 'CAB', 'CAB', 'CAB', 'CAB', 'CAB'], ['000', 'ABC', 'ABC', 'ABC', 'ABC', 'ABC', 'ABC', 'ABC', 'ABC', 'ABC', 'ABC', 'ABC', 'ABC', 'ABC', 'ABC', 'ABC'], ['000', 'BCA', 'BCA', 'BCA', 'BCA', 'BCA', 'BCA', 'BCA', 'BCA', 'BCA', 'BCA', 'BCA', 'BCA', 'BCA', 'BCA', 'BCA'], ['000', 'CAB', 'CAB', 'CAB', 'CAB', 'CAB', 'CAB', 'CAB', 'CAB', 'CAB', 'CAB', 'CAB', 'CAB', 'CAB', 'CAB', 'CAB'], ['000', 'ABC', 'ABC', 'ABC', 'ABC', 'ABC', 'ABC', 'ABC', 'ABC', 'ABC', 'ABC', 'ABC', 'ABC', 'ABC', 'ABC', 'ABC'], ['000', 'BC0', 'BC0', 'BC0', 'BC0', 'BC0', 'BC0', 'BC0', 'BC0', 'BC0', 'BC0', 'BC0', 'BC0', 'BC0', 'BC0', 'BC0']]\n",
      "\n",
      "[['000', 'ABC', 'ABC', 'ABC', 'ABC', 'ABC', 'ABC', 'ABC', 'ABC', 'ABC', 'ABC', 'ABC', 'ABC', 'ABC', 'ABC', 'ABC'], ['000', 'BCA', 'BCA', 'BCA', 'BCA', 'BCA', 'BCA', 'BCA', 'BCA', 'BCA', 'BCA', 'BCA', 'BCA', 'BCA', 'BCA', 'BCA'], ['000', 'CAB', 'CAB', 'CAB', 'CAB', 'CAB', 'CAB', 'CAB', 'CAB', 'CAB', 'CAB', 'CAB', 'CAB', 'CAB', 'CAB', 'CAB'], ['000', 'ABC', 'ABC', 'ABC', 'ABC', 'ABC', 'ABC', 'ABC', 'ABC', 'ABC', 'ABC', 'ABC', 'ABC', 'ABC', 'ABC', 'ABC'], ['000', 'BCA', 'BCA', 'BCA', 'BCA', 'BCA', 'BCA', 'BCA', 'BCA', 'BCA', 'BCA', 'BCA', 'BCA', 'BCA', 'BCA', 'BCA'], ['000', 'CAB', 'CAB', 'CAB', 'CAB', 'CAB', 'CAB', 'CAB', 'CAB', 'CAB', 'CAB', 'CAB', 'CAB', 'CAB', 'CAB', 'CAB'], ['000', 'ABC', 'ABC', 'ABC', 'ABC', 'ABC', 'ABC', 'ABC', 'ABC', 'ABC', 'ABC', 'ABC', 'ABC', 'ABC', 'ABC', 'ABC'], ['000', 'BCA', 'BCA', 'BCA', 'BCA', 'BCA', 'BCA', 'BCA', 'BCA', 'BCA', 'BCA', 'BCA', 'BCA', 'BCA', 'BCA', 'BCA'], ['000', 'CAB', 'CAB', 'CAB', 'CAB', 'CAB', 'CAB', 'CAB', 'CAB', 'CAB', 'CAB', 'CAB', 'CAB', 'CAB', 'CAB', 'CAB'], ['000', 'ABC', 'ABC', 'ABC', 'ABC', 'ABC', 'ABC', 'ABC', 'ABC', 'ABC', 'ABC', 'ABC', 'ABC', 'ABC', 'ABC', 'ABC'], ['000', 'BCA', 'BCA', 'BCA', 'BCA', 'BCA', 'BCA', 'BCA', 'BCA', 'BCA', 'BCA', 'BCA', 'BCA', 'BCA', 'BCA', 'BCA'], ['000', 'CAB', 'CAB', 'CAB', 'CAB', 'CAB', 'CAB', 'CAB', 'CAB', 'CAB', 'CAB', 'CAB', 'CAB', 'CAB', 'CAB', 'CAB'], ['000', 'ABC', 'ABC', 'ABC', 'ABC', 'ABC', 'ABC', 'ABC', 'ABC', 'ABC', 'ABC', 'ABC', 'ABC', 'ABC', 'ABC', 'ABC'], ['000', 'BCA', 'BCA', 'BCA', 'BCA', 'BCA', 'BCA', 'BCA', 'BCA', 'BCA', 'BCA', 'BCA', 'BCA', 'BCA', 'BCA', 'BCA']]\n",
      "\n",
      "[['0AB', '0AB', '0AB', '0AB', '0AB', '0AB', '0AB', '0AB', '0AB', '0AB', '0AB', '0AB', '0AB', '0AB', '0AB', '0AB'], ['ABC', 'ABC', 'ABC', 'ABC', 'ABC', 'ABC', 'ABC', 'ABC', 'ABC', 'ABC', 'ABC', 'ABC', 'ABC', 'ABC', 'ABC', 'ABC'], ['BCA', 'BCA', 'BCA', 'BCA', 'BCA', 'BCA', 'BCA', 'BCA', 'BCA', 'BCA', 'BCA', 'BCA', 'BCA', 'BCA', 'BCA', 'BCA'], ['CAB', 'CAB', 'CAB', 'CAB', 'CAB', 'CAB', 'CAB', 'CAB', 'CAB', 'CAB', 'CAB', 'CAB', 'CAB', 'CAB', 'CAB', 'CAB'], ['ABC', 'ABC', 'ABC', 'ABC', 'ABC', 'ABC', 'ABC', 'ABC', 'ABC', 'ABC', 'ABC', 'ABC', 'ABC', 'ABC', 'ABC', 'ABC'], ['BCA', 'BCA', 'BCA', 'BCA', 'BCA', 'BCA', 'BCA', 'BCA', 'BCA', 'BCA', 'BCA', 'BCA', 'BCA', 'BCA', 'BCA', 'BCA'], ['CAB', 'CAB', 'CAB', 'CAB', 'CAB', 'CAB', 'CAB', 'CAB', 'CAB', 'CAB', 'CAB', 'CAB', 'CAB', 'CAB', 'CAB', 'CAB'], ['ABC', 'ABC', 'ABC', 'ABC', 'ABC', 'ABC', 'ABC', 'ABC', 'ABC', 'ABC', 'ABC', 'ABC', 'ABC', 'ABC', 'ABC', 'ABC'], ['BCA', 'BCA', 'BCA', 'BCA', 'BCA', 'BCA', 'BCA', 'BCA', 'BCA', 'BCA', 'BCA', 'BCA', 'BCA', 'BCA', 'BCA', 'BCA'], ['CAB', 'CAB', 'CAB', 'CAB', 'CAB', 'CAB', 'CAB', 'CAB', 'CAB', 'CAB', 'CAB', 'CAB', 'CAB', 'CAB', 'CAB', 'CAB'], ['ABC', 'ABC', 'ABC', 'ABC', 'ABC', 'ABC', 'ABC', 'ABC', 'ABC', 'ABC', 'ABC', 'ABC', 'ABC', 'ABC', 'ABC', 'ABC'], ['BCA', 'BCA', 'BCA', 'BCA', 'BCA', 'BCA', 'BCA', 'BCA', 'BCA', 'BCA', 'BCA', 'BCA', 'BCA', 'BCA', 'BCA', 'BCA'], ['CAB', 'CAB', 'CAB', 'CAB', 'CAB', 'CAB', 'CAB', 'CAB', 'CAB', 'CAB', 'CAB', 'CAB', 'CAB', 'CAB', 'CAB', 'CAB'], ['ABC', 'ABC', 'ABC', 'ABC', 'ABC', 'ABC', 'ABC', 'ABC', 'ABC', 'ABC', 'ABC', 'ABC', 'ABC', 'ABC', 'ABC', 'ABC']]\n",
      "\n",
      "[['ABC', 'ABC', 'ABC', 'ABC', 'ABC', 'ABC', 'ABC', 'ABC', 'ABC', 'ABC', 'ABC', 'ABC', 'ABC', 'ABC', 'ABC', '000'], ['BCA', 'BCA', 'BCA', 'BCA', 'BCA', 'BCA', 'BCA', 'BCA', 'BCA', 'BCA', 'BCA', 'BCA', 'BCA', 'BCA', 'BCA', '000'], ['CAB', 'CAB', 'CAB', 'CAB', 'CAB', 'CAB', 'CAB', 'CAB', 'CAB', 'CAB', 'CAB', 'CAB', 'CAB', 'CAB', 'CAB', '000'], ['ABC', 'ABC', 'ABC', 'ABC', 'ABC', 'ABC', 'ABC', 'ABC', 'ABC', 'ABC', 'ABC', 'ABC', 'ABC', 'ABC', 'ABC', '000'], ['BCA', 'BCA', 'BCA', 'BCA', 'BCA', 'BCA', 'BCA', 'BCA', 'BCA', 'BCA', 'BCA', 'BCA', 'BCA', 'BCA', 'BCA', '000'], ['CAB', 'CAB', 'CAB', 'CAB', 'CAB', 'CAB', 'CAB', 'CAB', 'CAB', 'CAB', 'CAB', 'CAB', 'CAB', 'CAB', 'CAB', '000'], ['ABC', 'ABC', 'ABC', 'ABC', 'ABC', 'ABC', 'ABC', 'ABC', 'ABC', 'ABC', 'ABC', 'ABC', 'ABC', 'ABC', 'ABC', '000'], ['BCA', 'BCA', 'BCA', 'BCA', 'BCA', 'BCA', 'BCA', 'BCA', 'BCA', 'BCA', 'BCA', 'BCA', 'BCA', 'BCA', 'BCA', '000'], ['CAB', 'CAB', 'CAB', 'CAB', 'CAB', 'CAB', 'CAB', 'CAB', 'CAB', 'CAB', 'CAB', 'CAB', 'CAB', 'CAB', 'CAB', '000'], ['ABC', 'ABC', 'ABC', 'ABC', 'ABC', 'ABC', 'ABC', 'ABC', 'ABC', 'ABC', 'ABC', 'ABC', 'ABC', 'ABC', 'ABC', '000'], ['BCA', 'BCA', 'BCA', 'BCA', 'BCA', 'BCA', 'BCA', 'BCA', 'BCA', 'BCA', 'BCA', 'BCA', 'BCA', 'BCA', 'BCA', '000'], ['CAB', 'CAB', 'CAB', 'CAB', 'CAB', 'CAB', 'CAB', 'CAB', 'CAB', 'CAB', 'CAB', 'CAB', 'CAB', 'CAB', 'CAB', '000'], ['ABC', 'ABC', 'ABC', 'ABC', 'ABC', 'ABC', 'ABC', 'ABC', 'ABC', 'ABC', 'ABC', 'ABC', 'ABC', 'ABC', 'ABC', '000'], ['BCA', 'BCA', 'BCA', 'BCA', 'BCA', 'BCA', 'BCA', 'BCA', 'BCA', 'BCA', 'BCA', 'BCA', 'BCA', 'BCA', 'BCA', '000']]\n",
      "\n",
      "[['ABC', 'ABC', 'ABC', 'ABC', 'ABC', 'ABC', 'ABC', 'ABC', 'ABC', 'ABC', 'ABC', 'ABC', 'ABC', 'ABC', 'ABC', 'ABC'], ['BCA', 'BCA', 'BCA', 'BCA', 'BCA', 'BCA', 'BCA', 'BCA', 'BCA', 'BCA', 'BCA', 'BCA', 'BCA', 'BCA', 'BCA', 'BCA'], ['CAB', 'CAB', 'CAB', 'CAB', 'CAB', 'CAB', 'CAB', 'CAB', 'CAB', 'CAB', 'CAB', 'CAB', 'CAB', 'CAB', 'CAB', 'CAB'], ['ABC', 'ABC', 'ABC', 'ABC', 'ABC', 'ABC', 'ABC', 'ABC', 'ABC', 'ABC', 'ABC', 'ABC', 'ABC', 'ABC', 'ABC', 'ABC'], ['BCA', 'BCA', 'BCA', 'BCA', 'BCA', 'BCA', 'BCA', 'BCA', 'BCA', 'BCA', 'BCA', 'BCA', 'BCA', 'BCA', 'BCA', 'BCA'], ['CAB', 'CAB', 'CAB', 'CAB', 'CAB', 'CAB', 'CAB', 'CAB', 'CAB', 'CAB', 'CAB', 'CAB', 'CAB', 'CAB', 'CAB', 'CAB'], ['ABC', 'ABC', 'ABC', 'ABC', 'ABC', 'ABC', 'ABC', 'ABC', 'ABC', 'ABC', 'ABC', 'ABC', 'ABC', 'ABC', 'ABC', 'ABC'], ['BCA', 'BCA', 'BCA', 'BCA', 'BCA', 'BCA', 'BCA', 'BCA', 'BCA', 'BCA', 'BCA', 'BCA', 'BCA', 'BCA', 'BCA', 'BCA'], ['CAB', 'CAB', 'CAB', 'CAB', 'CAB', 'CAB', 'CAB', 'CAB', 'CAB', 'CAB', 'CAB', 'CAB', 'CAB', 'CAB', 'CAB', 'CAB'], ['ABC', 'ABC', 'ABC', 'ABC', 'ABC', 'ABC', 'ABC', 'ABC', 'ABC', 'ABC', 'ABC', 'ABC', 'ABC', 'ABC', 'ABC', 'ABC'], ['BCA', 'BCA', 'BCA', 'BCA', 'BCA', 'BCA', 'BCA', 'BCA', 'BCA', 'BCA', 'BCA', 'BCA', 'BCA', 'BCA', 'BCA', 'BCA'], ['CAB', 'CAB', 'CAB', 'CAB', 'CAB', 'CAB', 'CAB', 'CAB', 'CAB', 'CAB', 'CAB', 'CAB', 'CAB', 'CAB', 'CAB', 'CAB'], ['ABC', 'ABC', 'ABC', 'ABC', 'ABC', 'ABC', 'ABC', 'ABC', 'ABC', 'ABC', 'ABC', 'ABC', 'ABC', 'ABC', 'ABC', 'ABC'], ['BC0', 'BC0', 'BC0', 'BC0', 'BC0', 'BC0', 'BC0', 'BC0', 'BC0', 'BC0', 'BC0', 'BC0', 'BC0', 'BC0', 'BC0', 'BC0']]\n",
      "\n"
     ]
    }
   ],
   "source": [
    "\n",
    "# check all enable codes\n",
    "for i in range(9):\n",
    "    print(enable_code_generate(i))\n",
    "    print('')"
   ]
  },
  {
   "cell_type": "code",
   "execution_count": 59,
   "metadata": {},
   "outputs": [],
   "source": [
    "# check all patterns\n",
    "def enable_code_patterns():\n",
    "    all_pattern = []\n",
    "\n",
    "    for i in range(9): # i = 0 ~ 8\n",
    "        for k in range(14):\n",
    "            for j in range(16):\n",
    "                all_pattern.append(enable_code_generate(i)[k][j])\n",
    "    \n",
    "    all_pattern = list(set(all_pattern))\n",
    "        \n",
    "    return all_pattern"
   ]
  },
  {
   "cell_type": "code",
   "execution_count": 60,
   "metadata": {},
   "outputs": [
    {
     "name": "stdout",
     "output_type": "stream",
     "text": [
      "['BC0', '0AB', 'ABC', 'CAB', '000', 'BCA']\n"
     ]
    }
   ],
   "source": [
    "print(enable_code_patterns())"
   ]
  },
  {
   "cell_type": "code",
   "execution_count": 61,
   "metadata": {},
   "outputs": [
    {
     "data": {
      "text/plain": [
       "\"\\n\\n'ABC' = 0 \\n'0AB' = 1\\n'CAB' = 2\\n'BCA' = 3\\n'BC0' = 4\\n'000' = 5\\n\\n\""
      ]
     },
     "execution_count": 61,
     "metadata": {},
     "output_type": "execute_result"
    }
   ],
   "source": [
    "\"\"\"\n",
    "\n",
    "'ABC' = 0 \n",
    "'0AB' = 1\n",
    "'CAB' = 2\n",
    "'BCA' = 3\n",
    "'BC0' = 4\n",
    "'000' = 5\n",
    "\n",
    "\"\"\""
   ]
  },
  {
   "cell_type": "code",
   "execution_count": 62,
   "metadata": {},
   "outputs": [],
   "source": [
    "def addr_counter(addr_list):\n",
    "    count_list = []\n",
    "    \n",
    "    base_addr = addr_list[0]\n",
    "    \n",
    "    for addr in addr_list:\n",
    "        counter = addr - base_addr\n",
    "        count_list_row = [counter + i for i in range(base_addr + 1)]\n",
    "        count_list.append(count_list_row)\n",
    "    \n",
    "    return count_list\n"
   ]
  },
  {
   "cell_type": "code",
   "execution_count": 64,
   "metadata": {},
   "outputs": [],
   "source": [
    "def pad_to_16_with_first(matrix):\n",
    "    return [[row[0]] * (16 - len(row)) + row if len(row) < 16 else row for row in matrix]"
   ]
  },
  {
   "cell_type": "code",
   "execution_count": 63,
   "metadata": {},
   "outputs": [],
   "source": [
    "def pad_to_16_with_last(matrix):\n",
    "    return [row + [row[-1]] * (16 - len(row)) if len(row) < 16 and row else row for row in matrix]"
   ]
  },
  {
   "cell_type": "code",
   "execution_count": 65,
   "metadata": {},
   "outputs": [],
   "source": [
    "def remove_fourth_occurrence(lst):\n",
    "    from collections import defaultdict\n",
    "    \n",
    "    count_dict = defaultdict(int)\n",
    "    result = []\n",
    "    \n",
    "    for x in lst:\n",
    "        count_dict[x] += 1\n",
    "        if count_dict[x] != 4:\n",
    "            result.append(x)\n",
    "    \n",
    "    return result"
   ]
  },
  {
   "cell_type": "code",
   "execution_count": 66,
   "metadata": {},
   "outputs": [],
   "source": [
    "def add_last_element_row(matrix):\n",
    "    if not matrix or not matrix[-1]:  \n",
    "        return matrix\n",
    "    \n",
    "    last_value = matrix[-1][-1]  \n",
    "    new_row = [last_value] * len(matrix[-1])  \n",
    "    return matrix + [new_row]"
   ]
  },
  {
   "cell_type": "code",
   "execution_count": 67,
   "metadata": {},
   "outputs": [],
   "source": [
    "def add_first_element_row(matrix):\n",
    "    if not matrix or not matrix[0]:  \n",
    "        return matrix\n",
    "    \n",
    "    first_value = matrix[0][0]  \n",
    "    new_row = [first_value] * len(matrix[0])  \n",
    "    return [new_row] + matrix  "
   ]
  },
  {
   "cell_type": "code",
   "execution_count": 73,
   "metadata": {},
   "outputs": [],
   "source": [
    "def addr_generate(signal):\n",
    "    matrix = enable_code_generate(signal)\n",
    "    A_addr = -1\n",
    "    B_addr = -1\n",
    "    C_addr = -1\n",
    "    row_count = 0\n",
    "\n",
    "    A_addr_list = []\n",
    "    B_addr_list = []\n",
    "    C_addr_list = []\n",
    "\n",
    "    for row in matrix:\n",
    "        for reg_x3 in row:\n",
    "            idx_A = reg_x3.find('A')\n",
    "            idx_B = reg_x3.find('B')\n",
    "            idx_C = reg_x3.find('C')\n",
    "            \n",
    "            if row_count == 0 and idx_A != -1:\n",
    "                A_addr += 1\n",
    "                \n",
    "            if row_count != 0 and idx_A == 2:\n",
    "                A_addr += 1\n",
    "                \n",
    "            if row_count == 0 and idx_B != -1:\n",
    "                B_addr += 1\n",
    "            \n",
    "            if row_count != 0 and idx_B == 2:\n",
    "                B_addr += 1\n",
    "            \n",
    "            if row_count == 0 and idx_C != -1:\n",
    "                C_addr += 1\n",
    "            \n",
    "            if row_count != 0 and idx_C == 2:\n",
    "                C_addr += 1\n",
    "        \n",
    "        row_count += 1\n",
    "        A_addr_list.append(A_addr)\n",
    "        B_addr_list.append(B_addr)\n",
    "        C_addr_list.append(C_addr)\n",
    "    \n",
    "    # belows are exception for A and C\n",
    "    if C_addr_list[0] == -1: # for the first row\n",
    "        C_addr_list = C_addr_list[1:]\n",
    "    \n",
    "    A_addr_list = remove_fourth_occurrence(A_addr_list) # for the last row\n",
    "    \n",
    "    # Apply clk wise count\n",
    "    \n",
    "    A_addr_list = addr_counter(A_addr_list)\n",
    "    B_addr_list = addr_counter(B_addr_list)\n",
    "    C_addr_list = addr_counter(C_addr_list)\n",
    "    \n",
    "    # belows are exception for A and C. (row direction)\n",
    "    if signal in [1, 2, 6]:\n",
    "        C_addr_list = add_first_element_row(C_addr_list)\n",
    "    \n",
    "    if signal in [3, 4, 8]:\n",
    "        A_addr_list = add_last_element_row(A_addr_list)\n",
    "    \n",
    "    # belows are exceptino for A, B, C all. (col direction)\n",
    "    if signal in [1, 4, 5]:\n",
    "        A_addr_list = pad_to_16_with_first(A_addr_list)\n",
    "        B_addr_list = pad_to_16_with_first(B_addr_list)\n",
    "        C_addr_list = pad_to_16_with_first(C_addr_list)\n",
    "    \n",
    "    if signal in [2, 3, 7]:\n",
    "        A_addr_list = pad_to_16_with_last(A_addr_list)\n",
    "        B_addr_list = pad_to_16_with_last(B_addr_list)\n",
    "        C_addr_list = pad_to_16_with_last(C_addr_list)\n",
    "        \n",
    "    return A_addr_list, B_addr_list, C_addr_list # one element per one row\n"
   ]
  },
  {
   "cell_type": "code",
   "execution_count": 74,
   "metadata": {},
   "outputs": [
    {
     "name": "stdout",
     "output_type": "stream",
     "text": [
      "Signal 0\n",
      "A_addr :  [[0, 1, 2, 3, 4, 5, 6, 7, 8, 9, 10, 11, 12, 13, 14, 15], [16, 17, 18, 19, 20, 21, 22, 23, 24, 25, 26, 27, 28, 29, 30, 31], [16, 17, 18, 19, 20, 21, 22, 23, 24, 25, 26, 27, 28, 29, 30, 31], [16, 17, 18, 19, 20, 21, 22, 23, 24, 25, 26, 27, 28, 29, 30, 31], [32, 33, 34, 35, 36, 37, 38, 39, 40, 41, 42, 43, 44, 45, 46, 47], [32, 33, 34, 35, 36, 37, 38, 39, 40, 41, 42, 43, 44, 45, 46, 47], [32, 33, 34, 35, 36, 37, 38, 39, 40, 41, 42, 43, 44, 45, 46, 47], [48, 49, 50, 51, 52, 53, 54, 55, 56, 57, 58, 59, 60, 61, 62, 63], [48, 49, 50, 51, 52, 53, 54, 55, 56, 57, 58, 59, 60, 61, 62, 63], [48, 49, 50, 51, 52, 53, 54, 55, 56, 57, 58, 59, 60, 61, 62, 63], [64, 65, 66, 67, 68, 69, 70, 71, 72, 73, 74, 75, 76, 77, 78, 79], [64, 65, 66, 67, 68, 69, 70, 71, 72, 73, 74, 75, 76, 77, 78, 79], [64, 65, 66, 67, 68, 69, 70, 71, 72, 73, 74, 75, 76, 77, 78, 79], [80, 81, 82, 83, 84, 85, 86, 87, 88, 89, 90, 91, 92, 93, 94, 95]]\n",
      "B_addr :  [[0, 1, 2, 3, 4, 5, 6, 7, 8, 9, 10, 11, 12, 13, 14, 15], [0, 1, 2, 3, 4, 5, 6, 7, 8, 9, 10, 11, 12, 13, 14, 15], [16, 17, 18, 19, 20, 21, 22, 23, 24, 25, 26, 27, 28, 29, 30, 31], [16, 17, 18, 19, 20, 21, 22, 23, 24, 25, 26, 27, 28, 29, 30, 31], [16, 17, 18, 19, 20, 21, 22, 23, 24, 25, 26, 27, 28, 29, 30, 31], [32, 33, 34, 35, 36, 37, 38, 39, 40, 41, 42, 43, 44, 45, 46, 47], [32, 33, 34, 35, 36, 37, 38, 39, 40, 41, 42, 43, 44, 45, 46, 47], [32, 33, 34, 35, 36, 37, 38, 39, 40, 41, 42, 43, 44, 45, 46, 47], [48, 49, 50, 51, 52, 53, 54, 55, 56, 57, 58, 59, 60, 61, 62, 63], [48, 49, 50, 51, 52, 53, 54, 55, 56, 57, 58, 59, 60, 61, 62, 63], [48, 49, 50, 51, 52, 53, 54, 55, 56, 57, 58, 59, 60, 61, 62, 63], [64, 65, 66, 67, 68, 69, 70, 71, 72, 73, 74, 75, 76, 77, 78, 79], [64, 65, 66, 67, 68, 69, 70, 71, 72, 73, 74, 75, 76, 77, 78, 79], [64, 65, 66, 67, 68, 69, 70, 71, 72, 73, 74, 75, 76, 77, 78, 79]]\n",
      "C_addr :  [[0, 1, 2, 3, 4, 5, 6, 7, 8, 9, 10, 11, 12, 13, 14, 15], [0, 1, 2, 3, 4, 5, 6, 7, 8, 9, 10, 11, 12, 13, 14, 15], [0, 1, 2, 3, 4, 5, 6, 7, 8, 9, 10, 11, 12, 13, 14, 15], [16, 17, 18, 19, 20, 21, 22, 23, 24, 25, 26, 27, 28, 29, 30, 31], [16, 17, 18, 19, 20, 21, 22, 23, 24, 25, 26, 27, 28, 29, 30, 31], [16, 17, 18, 19, 20, 21, 22, 23, 24, 25, 26, 27, 28, 29, 30, 31], [32, 33, 34, 35, 36, 37, 38, 39, 40, 41, 42, 43, 44, 45, 46, 47], [32, 33, 34, 35, 36, 37, 38, 39, 40, 41, 42, 43, 44, 45, 46, 47], [32, 33, 34, 35, 36, 37, 38, 39, 40, 41, 42, 43, 44, 45, 46, 47], [48, 49, 50, 51, 52, 53, 54, 55, 56, 57, 58, 59, 60, 61, 62, 63], [48, 49, 50, 51, 52, 53, 54, 55, 56, 57, 58, 59, 60, 61, 62, 63], [48, 49, 50, 51, 52, 53, 54, 55, 56, 57, 58, 59, 60, 61, 62, 63], [64, 65, 66, 67, 68, 69, 70, 71, 72, 73, 74, 75, 76, 77, 78, 79], [64, 65, 66, 67, 68, 69, 70, 71, 72, 73, 74, 75, 76, 77, 78, 79]]\n",
      "\n",
      "Signal 1\n",
      "A_addr :  [[0, 0, 1, 2, 3, 4, 5, 6, 7, 8, 9, 10, 11, 12, 13, 14], [0, 0, 1, 2, 3, 4, 5, 6, 7, 8, 9, 10, 11, 12, 13, 14], [15, 15, 16, 17, 18, 19, 20, 21, 22, 23, 24, 25, 26, 27, 28, 29], [15, 15, 16, 17, 18, 19, 20, 21, 22, 23, 24, 25, 26, 27, 28, 29], [15, 15, 16, 17, 18, 19, 20, 21, 22, 23, 24, 25, 26, 27, 28, 29], [30, 30, 31, 32, 33, 34, 35, 36, 37, 38, 39, 40, 41, 42, 43, 44], [30, 30, 31, 32, 33, 34, 35, 36, 37, 38, 39, 40, 41, 42, 43, 44], [30, 30, 31, 32, 33, 34, 35, 36, 37, 38, 39, 40, 41, 42, 43, 44], [45, 45, 46, 47, 48, 49, 50, 51, 52, 53, 54, 55, 56, 57, 58, 59], [45, 45, 46, 47, 48, 49, 50, 51, 52, 53, 54, 55, 56, 57, 58, 59], [45, 45, 46, 47, 48, 49, 50, 51, 52, 53, 54, 55, 56, 57, 58, 59], [60, 60, 61, 62, 63, 64, 65, 66, 67, 68, 69, 70, 71, 72, 73, 74], [60, 60, 61, 62, 63, 64, 65, 66, 67, 68, 69, 70, 71, 72, 73, 74], [60, 60, 61, 62, 63, 64, 65, 66, 67, 68, 69, 70, 71, 72, 73, 74]]\n",
      "B_addr :  [[0, 0, 1, 2, 3, 4, 5, 6, 7, 8, 9, 10, 11, 12, 13, 14], [0, 0, 1, 2, 3, 4, 5, 6, 7, 8, 9, 10, 11, 12, 13, 14], [0, 0, 1, 2, 3, 4, 5, 6, 7, 8, 9, 10, 11, 12, 13, 14], [15, 15, 16, 17, 18, 19, 20, 21, 22, 23, 24, 25, 26, 27, 28, 29], [15, 15, 16, 17, 18, 19, 20, 21, 22, 23, 24, 25, 26, 27, 28, 29], [15, 15, 16, 17, 18, 19, 20, 21, 22, 23, 24, 25, 26, 27, 28, 29], [30, 30, 31, 32, 33, 34, 35, 36, 37, 38, 39, 40, 41, 42, 43, 44], [30, 30, 31, 32, 33, 34, 35, 36, 37, 38, 39, 40, 41, 42, 43, 44], [30, 30, 31, 32, 33, 34, 35, 36, 37, 38, 39, 40, 41, 42, 43, 44], [45, 45, 46, 47, 48, 49, 50, 51, 52, 53, 54, 55, 56, 57, 58, 59], [45, 45, 46, 47, 48, 49, 50, 51, 52, 53, 54, 55, 56, 57, 58, 59], [45, 45, 46, 47, 48, 49, 50, 51, 52, 53, 54, 55, 56, 57, 58, 59], [60, 60, 61, 62, 63, 64, 65, 66, 67, 68, 69, 70, 71, 72, 73, 74], [60, 60, 61, 62, 63, 64, 65, 66, 67, 68, 69, 70, 71, 72, 73, 74]]\n",
      "C_addr :  [[0, 0, 0, 0, 0, 0, 0, 0, 0, 0, 0, 0, 0, 0, 0, 0], [0, 0, 1, 2, 3, 4, 5, 6, 7, 8, 9, 10, 11, 12, 13, 14], [0, 0, 1, 2, 3, 4, 5, 6, 7, 8, 9, 10, 11, 12, 13, 14], [0, 0, 1, 2, 3, 4, 5, 6, 7, 8, 9, 10, 11, 12, 13, 14], [15, 15, 16, 17, 18, 19, 20, 21, 22, 23, 24, 25, 26, 27, 28, 29], [15, 15, 16, 17, 18, 19, 20, 21, 22, 23, 24, 25, 26, 27, 28, 29], [15, 15, 16, 17, 18, 19, 20, 21, 22, 23, 24, 25, 26, 27, 28, 29], [30, 30, 31, 32, 33, 34, 35, 36, 37, 38, 39, 40, 41, 42, 43, 44], [30, 30, 31, 32, 33, 34, 35, 36, 37, 38, 39, 40, 41, 42, 43, 44], [30, 30, 31, 32, 33, 34, 35, 36, 37, 38, 39, 40, 41, 42, 43, 44], [45, 45, 46, 47, 48, 49, 50, 51, 52, 53, 54, 55, 56, 57, 58, 59], [45, 45, 46, 47, 48, 49, 50, 51, 52, 53, 54, 55, 56, 57, 58, 59], [45, 45, 46, 47, 48, 49, 50, 51, 52, 53, 54, 55, 56, 57, 58, 59], [60, 60, 61, 62, 63, 64, 65, 66, 67, 68, 69, 70, 71, 72, 73, 74]]\n",
      "\n",
      "Signal 2\n",
      "A_addr :  [[0, 1, 2, 3, 4, 5, 6, 7, 8, 9, 10, 11, 12, 13, 14, 14], [0, 1, 2, 3, 4, 5, 6, 7, 8, 9, 10, 11, 12, 13, 14, 14], [15, 16, 17, 18, 19, 20, 21, 22, 23, 24, 25, 26, 27, 28, 29, 29], [15, 16, 17, 18, 19, 20, 21, 22, 23, 24, 25, 26, 27, 28, 29, 29], [15, 16, 17, 18, 19, 20, 21, 22, 23, 24, 25, 26, 27, 28, 29, 29], [30, 31, 32, 33, 34, 35, 36, 37, 38, 39, 40, 41, 42, 43, 44, 44], [30, 31, 32, 33, 34, 35, 36, 37, 38, 39, 40, 41, 42, 43, 44, 44], [30, 31, 32, 33, 34, 35, 36, 37, 38, 39, 40, 41, 42, 43, 44, 44], [45, 46, 47, 48, 49, 50, 51, 52, 53, 54, 55, 56, 57, 58, 59, 59], [45, 46, 47, 48, 49, 50, 51, 52, 53, 54, 55, 56, 57, 58, 59, 59], [45, 46, 47, 48, 49, 50, 51, 52, 53, 54, 55, 56, 57, 58, 59, 59], [60, 61, 62, 63, 64, 65, 66, 67, 68, 69, 70, 71, 72, 73, 74, 74], [60, 61, 62, 63, 64, 65, 66, 67, 68, 69, 70, 71, 72, 73, 74, 74], [60, 61, 62, 63, 64, 65, 66, 67, 68, 69, 70, 71, 72, 73, 74, 74]]\n",
      "B_addr :  [[0, 1, 2, 3, 4, 5, 6, 7, 8, 9, 10, 11, 12, 13, 14, 14], [0, 1, 2, 3, 4, 5, 6, 7, 8, 9, 10, 11, 12, 13, 14, 14], [0, 1, 2, 3, 4, 5, 6, 7, 8, 9, 10, 11, 12, 13, 14, 14], [15, 16, 17, 18, 19, 20, 21, 22, 23, 24, 25, 26, 27, 28, 29, 29], [15, 16, 17, 18, 19, 20, 21, 22, 23, 24, 25, 26, 27, 28, 29, 29], [15, 16, 17, 18, 19, 20, 21, 22, 23, 24, 25, 26, 27, 28, 29, 29], [30, 31, 32, 33, 34, 35, 36, 37, 38, 39, 40, 41, 42, 43, 44, 44], [30, 31, 32, 33, 34, 35, 36, 37, 38, 39, 40, 41, 42, 43, 44, 44], [30, 31, 32, 33, 34, 35, 36, 37, 38, 39, 40, 41, 42, 43, 44, 44], [45, 46, 47, 48, 49, 50, 51, 52, 53, 54, 55, 56, 57, 58, 59, 59], [45, 46, 47, 48, 49, 50, 51, 52, 53, 54, 55, 56, 57, 58, 59, 59], [45, 46, 47, 48, 49, 50, 51, 52, 53, 54, 55, 56, 57, 58, 59, 59], [60, 61, 62, 63, 64, 65, 66, 67, 68, 69, 70, 71, 72, 73, 74, 74], [60, 61, 62, 63, 64, 65, 66, 67, 68, 69, 70, 71, 72, 73, 74, 74]]\n",
      "C_addr :  [[0, 0, 0, 0, 0, 0, 0, 0, 0, 0, 0, 0, 0, 0, 0, 0], [0, 1, 2, 3, 4, 5, 6, 7, 8, 9, 10, 11, 12, 13, 14, 14], [0, 1, 2, 3, 4, 5, 6, 7, 8, 9, 10, 11, 12, 13, 14, 14], [0, 1, 2, 3, 4, 5, 6, 7, 8, 9, 10, 11, 12, 13, 14, 14], [15, 16, 17, 18, 19, 20, 21, 22, 23, 24, 25, 26, 27, 28, 29, 29], [15, 16, 17, 18, 19, 20, 21, 22, 23, 24, 25, 26, 27, 28, 29, 29], [15, 16, 17, 18, 19, 20, 21, 22, 23, 24, 25, 26, 27, 28, 29, 29], [30, 31, 32, 33, 34, 35, 36, 37, 38, 39, 40, 41, 42, 43, 44, 44], [30, 31, 32, 33, 34, 35, 36, 37, 38, 39, 40, 41, 42, 43, 44, 44], [30, 31, 32, 33, 34, 35, 36, 37, 38, 39, 40, 41, 42, 43, 44, 44], [45, 46, 47, 48, 49, 50, 51, 52, 53, 54, 55, 56, 57, 58, 59, 59], [45, 46, 47, 48, 49, 50, 51, 52, 53, 54, 55, 56, 57, 58, 59, 59], [45, 46, 47, 48, 49, 50, 51, 52, 53, 54, 55, 56, 57, 58, 59, 59], [60, 61, 62, 63, 64, 65, 66, 67, 68, 69, 70, 71, 72, 73, 74, 74]]\n",
      "\n",
      "Signal 3\n",
      "A_addr :  [[0, 1, 2, 3, 4, 5, 6, 7, 8, 9, 10, 11, 12, 13, 14, 14], [15, 16, 17, 18, 19, 20, 21, 22, 23, 24, 25, 26, 27, 28, 29, 29], [15, 16, 17, 18, 19, 20, 21, 22, 23, 24, 25, 26, 27, 28, 29, 29], [15, 16, 17, 18, 19, 20, 21, 22, 23, 24, 25, 26, 27, 28, 29, 29], [30, 31, 32, 33, 34, 35, 36, 37, 38, 39, 40, 41, 42, 43, 44, 44], [30, 31, 32, 33, 34, 35, 36, 37, 38, 39, 40, 41, 42, 43, 44, 44], [30, 31, 32, 33, 34, 35, 36, 37, 38, 39, 40, 41, 42, 43, 44, 44], [45, 46, 47, 48, 49, 50, 51, 52, 53, 54, 55, 56, 57, 58, 59, 59], [45, 46, 47, 48, 49, 50, 51, 52, 53, 54, 55, 56, 57, 58, 59, 59], [45, 46, 47, 48, 49, 50, 51, 52, 53, 54, 55, 56, 57, 58, 59, 59], [60, 61, 62, 63, 64, 65, 66, 67, 68, 69, 70, 71, 72, 73, 74, 74], [60, 61, 62, 63, 64, 65, 66, 67, 68, 69, 70, 71, 72, 73, 74, 74], [60, 61, 62, 63, 64, 65, 66, 67, 68, 69, 70, 71, 72, 73, 74, 74], [74, 74, 74, 74, 74, 74, 74, 74, 74, 74, 74, 74, 74, 74, 74, 74]]\n",
      "B_addr :  [[0, 1, 2, 3, 4, 5, 6, 7, 8, 9, 10, 11, 12, 13, 14, 14], [0, 1, 2, 3, 4, 5, 6, 7, 8, 9, 10, 11, 12, 13, 14, 14], [15, 16, 17, 18, 19, 20, 21, 22, 23, 24, 25, 26, 27, 28, 29, 29], [15, 16, 17, 18, 19, 20, 21, 22, 23, 24, 25, 26, 27, 28, 29, 29], [15, 16, 17, 18, 19, 20, 21, 22, 23, 24, 25, 26, 27, 28, 29, 29], [30, 31, 32, 33, 34, 35, 36, 37, 38, 39, 40, 41, 42, 43, 44, 44], [30, 31, 32, 33, 34, 35, 36, 37, 38, 39, 40, 41, 42, 43, 44, 44], [30, 31, 32, 33, 34, 35, 36, 37, 38, 39, 40, 41, 42, 43, 44, 44], [45, 46, 47, 48, 49, 50, 51, 52, 53, 54, 55, 56, 57, 58, 59, 59], [45, 46, 47, 48, 49, 50, 51, 52, 53, 54, 55, 56, 57, 58, 59, 59], [45, 46, 47, 48, 49, 50, 51, 52, 53, 54, 55, 56, 57, 58, 59, 59], [60, 61, 62, 63, 64, 65, 66, 67, 68, 69, 70, 71, 72, 73, 74, 74], [60, 61, 62, 63, 64, 65, 66, 67, 68, 69, 70, 71, 72, 73, 74, 74], [60, 61, 62, 63, 64, 65, 66, 67, 68, 69, 70, 71, 72, 73, 74, 74]]\n",
      "C_addr :  [[0, 1, 2, 3, 4, 5, 6, 7, 8, 9, 10, 11, 12, 13, 14, 14], [0, 1, 2, 3, 4, 5, 6, 7, 8, 9, 10, 11, 12, 13, 14, 14], [0, 1, 2, 3, 4, 5, 6, 7, 8, 9, 10, 11, 12, 13, 14, 14], [15, 16, 17, 18, 19, 20, 21, 22, 23, 24, 25, 26, 27, 28, 29, 29], [15, 16, 17, 18, 19, 20, 21, 22, 23, 24, 25, 26, 27, 28, 29, 29], [15, 16, 17, 18, 19, 20, 21, 22, 23, 24, 25, 26, 27, 28, 29, 29], [30, 31, 32, 33, 34, 35, 36, 37, 38, 39, 40, 41, 42, 43, 44, 44], [30, 31, 32, 33, 34, 35, 36, 37, 38, 39, 40, 41, 42, 43, 44, 44], [30, 31, 32, 33, 34, 35, 36, 37, 38, 39, 40, 41, 42, 43, 44, 44], [45, 46, 47, 48, 49, 50, 51, 52, 53, 54, 55, 56, 57, 58, 59, 59], [45, 46, 47, 48, 49, 50, 51, 52, 53, 54, 55, 56, 57, 58, 59, 59], [45, 46, 47, 48, 49, 50, 51, 52, 53, 54, 55, 56, 57, 58, 59, 59], [60, 61, 62, 63, 64, 65, 66, 67, 68, 69, 70, 71, 72, 73, 74, 74], [60, 61, 62, 63, 64, 65, 66, 67, 68, 69, 70, 71, 72, 73, 74, 74]]\n",
      "\n",
      "Signal 4\n",
      "A_addr :  [[0, 0, 1, 2, 3, 4, 5, 6, 7, 8, 9, 10, 11, 12, 13, 14], [15, 15, 16, 17, 18, 19, 20, 21, 22, 23, 24, 25, 26, 27, 28, 29], [15, 15, 16, 17, 18, 19, 20, 21, 22, 23, 24, 25, 26, 27, 28, 29], [15, 15, 16, 17, 18, 19, 20, 21, 22, 23, 24, 25, 26, 27, 28, 29], [30, 30, 31, 32, 33, 34, 35, 36, 37, 38, 39, 40, 41, 42, 43, 44], [30, 30, 31, 32, 33, 34, 35, 36, 37, 38, 39, 40, 41, 42, 43, 44], [30, 30, 31, 32, 33, 34, 35, 36, 37, 38, 39, 40, 41, 42, 43, 44], [45, 45, 46, 47, 48, 49, 50, 51, 52, 53, 54, 55, 56, 57, 58, 59], [45, 45, 46, 47, 48, 49, 50, 51, 52, 53, 54, 55, 56, 57, 58, 59], [45, 45, 46, 47, 48, 49, 50, 51, 52, 53, 54, 55, 56, 57, 58, 59], [60, 60, 61, 62, 63, 64, 65, 66, 67, 68, 69, 70, 71, 72, 73, 74], [60, 60, 61, 62, 63, 64, 65, 66, 67, 68, 69, 70, 71, 72, 73, 74], [60, 60, 61, 62, 63, 64, 65, 66, 67, 68, 69, 70, 71, 72, 73, 74], [74, 74, 74, 74, 74, 74, 74, 74, 74, 74, 74, 74, 74, 74, 74, 74]]\n",
      "B_addr :  [[0, 0, 1, 2, 3, 4, 5, 6, 7, 8, 9, 10, 11, 12, 13, 14], [0, 0, 1, 2, 3, 4, 5, 6, 7, 8, 9, 10, 11, 12, 13, 14], [15, 15, 16, 17, 18, 19, 20, 21, 22, 23, 24, 25, 26, 27, 28, 29], [15, 15, 16, 17, 18, 19, 20, 21, 22, 23, 24, 25, 26, 27, 28, 29], [15, 15, 16, 17, 18, 19, 20, 21, 22, 23, 24, 25, 26, 27, 28, 29], [30, 30, 31, 32, 33, 34, 35, 36, 37, 38, 39, 40, 41, 42, 43, 44], [30, 30, 31, 32, 33, 34, 35, 36, 37, 38, 39, 40, 41, 42, 43, 44], [30, 30, 31, 32, 33, 34, 35, 36, 37, 38, 39, 40, 41, 42, 43, 44], [45, 45, 46, 47, 48, 49, 50, 51, 52, 53, 54, 55, 56, 57, 58, 59], [45, 45, 46, 47, 48, 49, 50, 51, 52, 53, 54, 55, 56, 57, 58, 59], [45, 45, 46, 47, 48, 49, 50, 51, 52, 53, 54, 55, 56, 57, 58, 59], [60, 60, 61, 62, 63, 64, 65, 66, 67, 68, 69, 70, 71, 72, 73, 74], [60, 60, 61, 62, 63, 64, 65, 66, 67, 68, 69, 70, 71, 72, 73, 74], [60, 60, 61, 62, 63, 64, 65, 66, 67, 68, 69, 70, 71, 72, 73, 74]]\n",
      "C_addr :  [[0, 0, 1, 2, 3, 4, 5, 6, 7, 8, 9, 10, 11, 12, 13, 14], [0, 0, 1, 2, 3, 4, 5, 6, 7, 8, 9, 10, 11, 12, 13, 14], [0, 0, 1, 2, 3, 4, 5, 6, 7, 8, 9, 10, 11, 12, 13, 14], [15, 15, 16, 17, 18, 19, 20, 21, 22, 23, 24, 25, 26, 27, 28, 29], [15, 15, 16, 17, 18, 19, 20, 21, 22, 23, 24, 25, 26, 27, 28, 29], [15, 15, 16, 17, 18, 19, 20, 21, 22, 23, 24, 25, 26, 27, 28, 29], [30, 30, 31, 32, 33, 34, 35, 36, 37, 38, 39, 40, 41, 42, 43, 44], [30, 30, 31, 32, 33, 34, 35, 36, 37, 38, 39, 40, 41, 42, 43, 44], [30, 30, 31, 32, 33, 34, 35, 36, 37, 38, 39, 40, 41, 42, 43, 44], [45, 45, 46, 47, 48, 49, 50, 51, 52, 53, 54, 55, 56, 57, 58, 59], [45, 45, 46, 47, 48, 49, 50, 51, 52, 53, 54, 55, 56, 57, 58, 59], [45, 45, 46, 47, 48, 49, 50, 51, 52, 53, 54, 55, 56, 57, 58, 59], [60, 60, 61, 62, 63, 64, 65, 66, 67, 68, 69, 70, 71, 72, 73, 74], [60, 60, 61, 62, 63, 64, 65, 66, 67, 68, 69, 70, 71, 72, 73, 74]]\n",
      "\n",
      "Signal 5\n",
      "A_addr :  [[0, 0, 1, 2, 3, 4, 5, 6, 7, 8, 9, 10, 11, 12, 13, 14], [15, 15, 16, 17, 18, 19, 20, 21, 22, 23, 24, 25, 26, 27, 28, 29], [15, 15, 16, 17, 18, 19, 20, 21, 22, 23, 24, 25, 26, 27, 28, 29], [15, 15, 16, 17, 18, 19, 20, 21, 22, 23, 24, 25, 26, 27, 28, 29], [30, 30, 31, 32, 33, 34, 35, 36, 37, 38, 39, 40, 41, 42, 43, 44], [30, 30, 31, 32, 33, 34, 35, 36, 37, 38, 39, 40, 41, 42, 43, 44], [30, 30, 31, 32, 33, 34, 35, 36, 37, 38, 39, 40, 41, 42, 43, 44], [45, 45, 46, 47, 48, 49, 50, 51, 52, 53, 54, 55, 56, 57, 58, 59], [45, 45, 46, 47, 48, 49, 50, 51, 52, 53, 54, 55, 56, 57, 58, 59], [45, 45, 46, 47, 48, 49, 50, 51, 52, 53, 54, 55, 56, 57, 58, 59], [60, 60, 61, 62, 63, 64, 65, 66, 67, 68, 69, 70, 71, 72, 73, 74], [60, 60, 61, 62, 63, 64, 65, 66, 67, 68, 69, 70, 71, 72, 73, 74], [60, 60, 61, 62, 63, 64, 65, 66, 67, 68, 69, 70, 71, 72, 73, 74], [75, 75, 76, 77, 78, 79, 80, 81, 82, 83, 84, 85, 86, 87, 88, 89]]\n",
      "B_addr :  [[0, 0, 1, 2, 3, 4, 5, 6, 7, 8, 9, 10, 11, 12, 13, 14], [0, 0, 1, 2, 3, 4, 5, 6, 7, 8, 9, 10, 11, 12, 13, 14], [15, 15, 16, 17, 18, 19, 20, 21, 22, 23, 24, 25, 26, 27, 28, 29], [15, 15, 16, 17, 18, 19, 20, 21, 22, 23, 24, 25, 26, 27, 28, 29], [15, 15, 16, 17, 18, 19, 20, 21, 22, 23, 24, 25, 26, 27, 28, 29], [30, 30, 31, 32, 33, 34, 35, 36, 37, 38, 39, 40, 41, 42, 43, 44], [30, 30, 31, 32, 33, 34, 35, 36, 37, 38, 39, 40, 41, 42, 43, 44], [30, 30, 31, 32, 33, 34, 35, 36, 37, 38, 39, 40, 41, 42, 43, 44], [45, 45, 46, 47, 48, 49, 50, 51, 52, 53, 54, 55, 56, 57, 58, 59], [45, 45, 46, 47, 48, 49, 50, 51, 52, 53, 54, 55, 56, 57, 58, 59], [45, 45, 46, 47, 48, 49, 50, 51, 52, 53, 54, 55, 56, 57, 58, 59], [60, 60, 61, 62, 63, 64, 65, 66, 67, 68, 69, 70, 71, 72, 73, 74], [60, 60, 61, 62, 63, 64, 65, 66, 67, 68, 69, 70, 71, 72, 73, 74], [60, 60, 61, 62, 63, 64, 65, 66, 67, 68, 69, 70, 71, 72, 73, 74]]\n",
      "C_addr :  [[0, 0, 1, 2, 3, 4, 5, 6, 7, 8, 9, 10, 11, 12, 13, 14], [0, 0, 1, 2, 3, 4, 5, 6, 7, 8, 9, 10, 11, 12, 13, 14], [0, 0, 1, 2, 3, 4, 5, 6, 7, 8, 9, 10, 11, 12, 13, 14], [15, 15, 16, 17, 18, 19, 20, 21, 22, 23, 24, 25, 26, 27, 28, 29], [15, 15, 16, 17, 18, 19, 20, 21, 22, 23, 24, 25, 26, 27, 28, 29], [15, 15, 16, 17, 18, 19, 20, 21, 22, 23, 24, 25, 26, 27, 28, 29], [30, 30, 31, 32, 33, 34, 35, 36, 37, 38, 39, 40, 41, 42, 43, 44], [30, 30, 31, 32, 33, 34, 35, 36, 37, 38, 39, 40, 41, 42, 43, 44], [30, 30, 31, 32, 33, 34, 35, 36, 37, 38, 39, 40, 41, 42, 43, 44], [45, 45, 46, 47, 48, 49, 50, 51, 52, 53, 54, 55, 56, 57, 58, 59], [45, 45, 46, 47, 48, 49, 50, 51, 52, 53, 54, 55, 56, 57, 58, 59], [45, 45, 46, 47, 48, 49, 50, 51, 52, 53, 54, 55, 56, 57, 58, 59], [60, 60, 61, 62, 63, 64, 65, 66, 67, 68, 69, 70, 71, 72, 73, 74], [60, 60, 61, 62, 63, 64, 65, 66, 67, 68, 69, 70, 71, 72, 73, 74]]\n",
      "\n",
      "Signal 6\n",
      "A_addr :  [[0, 1, 2, 3, 4, 5, 6, 7, 8, 9, 10, 11, 12, 13, 14, 15], [0, 1, 2, 3, 4, 5, 6, 7, 8, 9, 10, 11, 12, 13, 14, 15], [16, 17, 18, 19, 20, 21, 22, 23, 24, 25, 26, 27, 28, 29, 30, 31], [16, 17, 18, 19, 20, 21, 22, 23, 24, 25, 26, 27, 28, 29, 30, 31], [16, 17, 18, 19, 20, 21, 22, 23, 24, 25, 26, 27, 28, 29, 30, 31], [32, 33, 34, 35, 36, 37, 38, 39, 40, 41, 42, 43, 44, 45, 46, 47], [32, 33, 34, 35, 36, 37, 38, 39, 40, 41, 42, 43, 44, 45, 46, 47], [32, 33, 34, 35, 36, 37, 38, 39, 40, 41, 42, 43, 44, 45, 46, 47], [48, 49, 50, 51, 52, 53, 54, 55, 56, 57, 58, 59, 60, 61, 62, 63], [48, 49, 50, 51, 52, 53, 54, 55, 56, 57, 58, 59, 60, 61, 62, 63], [48, 49, 50, 51, 52, 53, 54, 55, 56, 57, 58, 59, 60, 61, 62, 63], [64, 65, 66, 67, 68, 69, 70, 71, 72, 73, 74, 75, 76, 77, 78, 79], [64, 65, 66, 67, 68, 69, 70, 71, 72, 73, 74, 75, 76, 77, 78, 79], [64, 65, 66, 67, 68, 69, 70, 71, 72, 73, 74, 75, 76, 77, 78, 79]]\n",
      "B_addr :  [[0, 1, 2, 3, 4, 5, 6, 7, 8, 9, 10, 11, 12, 13, 14, 15], [0, 1, 2, 3, 4, 5, 6, 7, 8, 9, 10, 11, 12, 13, 14, 15], [0, 1, 2, 3, 4, 5, 6, 7, 8, 9, 10, 11, 12, 13, 14, 15], [16, 17, 18, 19, 20, 21, 22, 23, 24, 25, 26, 27, 28, 29, 30, 31], [16, 17, 18, 19, 20, 21, 22, 23, 24, 25, 26, 27, 28, 29, 30, 31], [16, 17, 18, 19, 20, 21, 22, 23, 24, 25, 26, 27, 28, 29, 30, 31], [32, 33, 34, 35, 36, 37, 38, 39, 40, 41, 42, 43, 44, 45, 46, 47], [32, 33, 34, 35, 36, 37, 38, 39, 40, 41, 42, 43, 44, 45, 46, 47], [32, 33, 34, 35, 36, 37, 38, 39, 40, 41, 42, 43, 44, 45, 46, 47], [48, 49, 50, 51, 52, 53, 54, 55, 56, 57, 58, 59, 60, 61, 62, 63], [48, 49, 50, 51, 52, 53, 54, 55, 56, 57, 58, 59, 60, 61, 62, 63], [48, 49, 50, 51, 52, 53, 54, 55, 56, 57, 58, 59, 60, 61, 62, 63], [64, 65, 66, 67, 68, 69, 70, 71, 72, 73, 74, 75, 76, 77, 78, 79], [64, 65, 66, 67, 68, 69, 70, 71, 72, 73, 74, 75, 76, 77, 78, 79]]\n",
      "C_addr :  [[0, 0, 0, 0, 0, 0, 0, 0, 0, 0, 0, 0, 0, 0, 0, 0], [0, 1, 2, 3, 4, 5, 6, 7, 8, 9, 10, 11, 12, 13, 14, 15], [0, 1, 2, 3, 4, 5, 6, 7, 8, 9, 10, 11, 12, 13, 14, 15], [0, 1, 2, 3, 4, 5, 6, 7, 8, 9, 10, 11, 12, 13, 14, 15], [16, 17, 18, 19, 20, 21, 22, 23, 24, 25, 26, 27, 28, 29, 30, 31], [16, 17, 18, 19, 20, 21, 22, 23, 24, 25, 26, 27, 28, 29, 30, 31], [16, 17, 18, 19, 20, 21, 22, 23, 24, 25, 26, 27, 28, 29, 30, 31], [32, 33, 34, 35, 36, 37, 38, 39, 40, 41, 42, 43, 44, 45, 46, 47], [32, 33, 34, 35, 36, 37, 38, 39, 40, 41, 42, 43, 44, 45, 46, 47], [32, 33, 34, 35, 36, 37, 38, 39, 40, 41, 42, 43, 44, 45, 46, 47], [48, 49, 50, 51, 52, 53, 54, 55, 56, 57, 58, 59, 60, 61, 62, 63], [48, 49, 50, 51, 52, 53, 54, 55, 56, 57, 58, 59, 60, 61, 62, 63], [48, 49, 50, 51, 52, 53, 54, 55, 56, 57, 58, 59, 60, 61, 62, 63], [64, 65, 66, 67, 68, 69, 70, 71, 72, 73, 74, 75, 76, 77, 78, 79]]\n",
      "\n",
      "Signal 7\n",
      "A_addr :  [[0, 1, 2, 3, 4, 5, 6, 7, 8, 9, 10, 11, 12, 13, 14, 14], [15, 16, 17, 18, 19, 20, 21, 22, 23, 24, 25, 26, 27, 28, 29, 29], [15, 16, 17, 18, 19, 20, 21, 22, 23, 24, 25, 26, 27, 28, 29, 29], [15, 16, 17, 18, 19, 20, 21, 22, 23, 24, 25, 26, 27, 28, 29, 29], [30, 31, 32, 33, 34, 35, 36, 37, 38, 39, 40, 41, 42, 43, 44, 44], [30, 31, 32, 33, 34, 35, 36, 37, 38, 39, 40, 41, 42, 43, 44, 44], [30, 31, 32, 33, 34, 35, 36, 37, 38, 39, 40, 41, 42, 43, 44, 44], [45, 46, 47, 48, 49, 50, 51, 52, 53, 54, 55, 56, 57, 58, 59, 59], [45, 46, 47, 48, 49, 50, 51, 52, 53, 54, 55, 56, 57, 58, 59, 59], [45, 46, 47, 48, 49, 50, 51, 52, 53, 54, 55, 56, 57, 58, 59, 59], [60, 61, 62, 63, 64, 65, 66, 67, 68, 69, 70, 71, 72, 73, 74, 74], [60, 61, 62, 63, 64, 65, 66, 67, 68, 69, 70, 71, 72, 73, 74, 74], [60, 61, 62, 63, 64, 65, 66, 67, 68, 69, 70, 71, 72, 73, 74, 74], [75, 76, 77, 78, 79, 80, 81, 82, 83, 84, 85, 86, 87, 88, 89, 89]]\n",
      "B_addr :  [[0, 1, 2, 3, 4, 5, 6, 7, 8, 9, 10, 11, 12, 13, 14, 14], [0, 1, 2, 3, 4, 5, 6, 7, 8, 9, 10, 11, 12, 13, 14, 14], [15, 16, 17, 18, 19, 20, 21, 22, 23, 24, 25, 26, 27, 28, 29, 29], [15, 16, 17, 18, 19, 20, 21, 22, 23, 24, 25, 26, 27, 28, 29, 29], [15, 16, 17, 18, 19, 20, 21, 22, 23, 24, 25, 26, 27, 28, 29, 29], [30, 31, 32, 33, 34, 35, 36, 37, 38, 39, 40, 41, 42, 43, 44, 44], [30, 31, 32, 33, 34, 35, 36, 37, 38, 39, 40, 41, 42, 43, 44, 44], [30, 31, 32, 33, 34, 35, 36, 37, 38, 39, 40, 41, 42, 43, 44, 44], [45, 46, 47, 48, 49, 50, 51, 52, 53, 54, 55, 56, 57, 58, 59, 59], [45, 46, 47, 48, 49, 50, 51, 52, 53, 54, 55, 56, 57, 58, 59, 59], [45, 46, 47, 48, 49, 50, 51, 52, 53, 54, 55, 56, 57, 58, 59, 59], [60, 61, 62, 63, 64, 65, 66, 67, 68, 69, 70, 71, 72, 73, 74, 74], [60, 61, 62, 63, 64, 65, 66, 67, 68, 69, 70, 71, 72, 73, 74, 74], [60, 61, 62, 63, 64, 65, 66, 67, 68, 69, 70, 71, 72, 73, 74, 74]]\n",
      "C_addr :  [[0, 1, 2, 3, 4, 5, 6, 7, 8, 9, 10, 11, 12, 13, 14, 14], [0, 1, 2, 3, 4, 5, 6, 7, 8, 9, 10, 11, 12, 13, 14, 14], [0, 1, 2, 3, 4, 5, 6, 7, 8, 9, 10, 11, 12, 13, 14, 14], [15, 16, 17, 18, 19, 20, 21, 22, 23, 24, 25, 26, 27, 28, 29, 29], [15, 16, 17, 18, 19, 20, 21, 22, 23, 24, 25, 26, 27, 28, 29, 29], [15, 16, 17, 18, 19, 20, 21, 22, 23, 24, 25, 26, 27, 28, 29, 29], [30, 31, 32, 33, 34, 35, 36, 37, 38, 39, 40, 41, 42, 43, 44, 44], [30, 31, 32, 33, 34, 35, 36, 37, 38, 39, 40, 41, 42, 43, 44, 44], [30, 31, 32, 33, 34, 35, 36, 37, 38, 39, 40, 41, 42, 43, 44, 44], [45, 46, 47, 48, 49, 50, 51, 52, 53, 54, 55, 56, 57, 58, 59, 59], [45, 46, 47, 48, 49, 50, 51, 52, 53, 54, 55, 56, 57, 58, 59, 59], [45, 46, 47, 48, 49, 50, 51, 52, 53, 54, 55, 56, 57, 58, 59, 59], [60, 61, 62, 63, 64, 65, 66, 67, 68, 69, 70, 71, 72, 73, 74, 74], [60, 61, 62, 63, 64, 65, 66, 67, 68, 69, 70, 71, 72, 73, 74, 74]]\n",
      "\n",
      "Signal 8\n",
      "A_addr :  [[0, 1, 2, 3, 4, 5, 6, 7, 8, 9, 10, 11, 12, 13, 14, 15], [16, 17, 18, 19, 20, 21, 22, 23, 24, 25, 26, 27, 28, 29, 30, 31], [16, 17, 18, 19, 20, 21, 22, 23, 24, 25, 26, 27, 28, 29, 30, 31], [16, 17, 18, 19, 20, 21, 22, 23, 24, 25, 26, 27, 28, 29, 30, 31], [32, 33, 34, 35, 36, 37, 38, 39, 40, 41, 42, 43, 44, 45, 46, 47], [32, 33, 34, 35, 36, 37, 38, 39, 40, 41, 42, 43, 44, 45, 46, 47], [32, 33, 34, 35, 36, 37, 38, 39, 40, 41, 42, 43, 44, 45, 46, 47], [48, 49, 50, 51, 52, 53, 54, 55, 56, 57, 58, 59, 60, 61, 62, 63], [48, 49, 50, 51, 52, 53, 54, 55, 56, 57, 58, 59, 60, 61, 62, 63], [48, 49, 50, 51, 52, 53, 54, 55, 56, 57, 58, 59, 60, 61, 62, 63], [64, 65, 66, 67, 68, 69, 70, 71, 72, 73, 74, 75, 76, 77, 78, 79], [64, 65, 66, 67, 68, 69, 70, 71, 72, 73, 74, 75, 76, 77, 78, 79], [64, 65, 66, 67, 68, 69, 70, 71, 72, 73, 74, 75, 76, 77, 78, 79], [79, 79, 79, 79, 79, 79, 79, 79, 79, 79, 79, 79, 79, 79, 79, 79]]\n",
      "B_addr :  [[0, 1, 2, 3, 4, 5, 6, 7, 8, 9, 10, 11, 12, 13, 14, 15], [0, 1, 2, 3, 4, 5, 6, 7, 8, 9, 10, 11, 12, 13, 14, 15], [16, 17, 18, 19, 20, 21, 22, 23, 24, 25, 26, 27, 28, 29, 30, 31], [16, 17, 18, 19, 20, 21, 22, 23, 24, 25, 26, 27, 28, 29, 30, 31], [16, 17, 18, 19, 20, 21, 22, 23, 24, 25, 26, 27, 28, 29, 30, 31], [32, 33, 34, 35, 36, 37, 38, 39, 40, 41, 42, 43, 44, 45, 46, 47], [32, 33, 34, 35, 36, 37, 38, 39, 40, 41, 42, 43, 44, 45, 46, 47], [32, 33, 34, 35, 36, 37, 38, 39, 40, 41, 42, 43, 44, 45, 46, 47], [48, 49, 50, 51, 52, 53, 54, 55, 56, 57, 58, 59, 60, 61, 62, 63], [48, 49, 50, 51, 52, 53, 54, 55, 56, 57, 58, 59, 60, 61, 62, 63], [48, 49, 50, 51, 52, 53, 54, 55, 56, 57, 58, 59, 60, 61, 62, 63], [64, 65, 66, 67, 68, 69, 70, 71, 72, 73, 74, 75, 76, 77, 78, 79], [64, 65, 66, 67, 68, 69, 70, 71, 72, 73, 74, 75, 76, 77, 78, 79], [64, 65, 66, 67, 68, 69, 70, 71, 72, 73, 74, 75, 76, 77, 78, 79]]\n",
      "C_addr :  [[0, 1, 2, 3, 4, 5, 6, 7, 8, 9, 10, 11, 12, 13, 14, 15], [0, 1, 2, 3, 4, 5, 6, 7, 8, 9, 10, 11, 12, 13, 14, 15], [0, 1, 2, 3, 4, 5, 6, 7, 8, 9, 10, 11, 12, 13, 14, 15], [16, 17, 18, 19, 20, 21, 22, 23, 24, 25, 26, 27, 28, 29, 30, 31], [16, 17, 18, 19, 20, 21, 22, 23, 24, 25, 26, 27, 28, 29, 30, 31], [16, 17, 18, 19, 20, 21, 22, 23, 24, 25, 26, 27, 28, 29, 30, 31], [32, 33, 34, 35, 36, 37, 38, 39, 40, 41, 42, 43, 44, 45, 46, 47], [32, 33, 34, 35, 36, 37, 38, 39, 40, 41, 42, 43, 44, 45, 46, 47], [32, 33, 34, 35, 36, 37, 38, 39, 40, 41, 42, 43, 44, 45, 46, 47], [48, 49, 50, 51, 52, 53, 54, 55, 56, 57, 58, 59, 60, 61, 62, 63], [48, 49, 50, 51, 52, 53, 54, 55, 56, 57, 58, 59, 60, 61, 62, 63], [48, 49, 50, 51, 52, 53, 54, 55, 56, 57, 58, 59, 60, 61, 62, 63], [64, 65, 66, 67, 68, 69, 70, 71, 72, 73, 74, 75, 76, 77, 78, 79], [64, 65, 66, 67, 68, 69, 70, 71, 72, 73, 74, 75, 76, 77, 78, 79]]\n",
      "\n"
     ]
    }
   ],
   "source": [
    "# check all addr\n",
    "for i in range(9):\n",
    "    print(\"Signal {}\".format(i))\n",
    "    A_addr_list, B_addr_list, C_addr_list = addr_generate(i)\n",
    "    print(\"A_addr : \", A_addr_list)\n",
    "    print(\"B_addr : \", B_addr_list)\n",
    "    print(\"C_addr : \", C_addr_list)\n",
    "    print('')"
   ]
  },
  {
   "cell_type": "code",
   "execution_count": 52,
   "metadata": {},
   "outputs": [
    {
     "data": {
      "text/plain": [
       "'\\nAddress patterning will be not used. Ignore the some codes below.\\n'"
      ]
     },
     "execution_count": 52,
     "metadata": {},
     "output_type": "execute_result"
    }
   ],
   "source": [
    "\"\"\"\n",
    "Address patterning will be not used. Ignore the some codes below.\n",
    "\"\"\""
   ]
  },
  {
   "cell_type": "code",
   "execution_count": 53,
   "metadata": {},
   "outputs": [],
   "source": [
    "def addr_patterns():\n",
    "    A_addr_pattern = []\n",
    "    B_addr_pattern = []\n",
    "    C_addr_pattern = []\n",
    "\n",
    "    for i in range(9): # i = 0 ~ 8\n",
    "        A_addr_list, B_addr_list, C_addr_list = addr_generate(i)\n",
    "        \n",
    "        for l in A_addr_list:\n",
    "            A_addr_pattern.append(l)\n",
    "        for m in B_addr_list:\n",
    "            B_addr_pattern.append(m)\n",
    "        for n in C_addr_list:\n",
    "            C_addr_pattern.append(n)\n",
    "        \n",
    "    a = list(set(A_addr_pattern))\n",
    "    b = list(set(B_addr_pattern))\n",
    "    c = list(set(C_addr_pattern))\n",
    "\n",
    "    addr_pattern = a + b + c\n",
    "    \n",
    "    addr_pattern = list(set(addr_pattern))\n",
    "    \n",
    "    addr_pattern.sort()\n",
    "    \n",
    "    return addr_pattern"
   ]
  },
  {
   "cell_type": "code",
   "execution_count": 54,
   "metadata": {},
   "outputs": [
    {
     "ename": "ValueError",
     "evalue": "too many values to unpack (expected 3)",
     "output_type": "error",
     "traceback": [
      "\u001b[1;31m---------------------------------------------------------------------------\u001b[0m",
      "\u001b[1;31mValueError\u001b[0m                                Traceback (most recent call last)",
      "Cell \u001b[1;32mIn[54], line 1\u001b[0m\n\u001b[1;32m----> 1\u001b[0m \u001b[38;5;28mprint\u001b[39m(\u001b[43maddr_patterns\u001b[49m\u001b[43m(\u001b[49m\u001b[43m)\u001b[49m)\n",
      "Cell \u001b[1;32mIn[53], line 7\u001b[0m, in \u001b[0;36maddr_patterns\u001b[1;34m()\u001b[0m\n\u001b[0;32m      4\u001b[0m C_addr_pattern \u001b[38;5;241m=\u001b[39m []\n\u001b[0;32m      6\u001b[0m \u001b[38;5;28;01mfor\u001b[39;00m i \u001b[38;5;129;01min\u001b[39;00m \u001b[38;5;28mrange\u001b[39m(\u001b[38;5;241m9\u001b[39m): \u001b[38;5;66;03m# i = 0 ~ 8\u001b[39;00m\n\u001b[1;32m----> 7\u001b[0m     A_addr_list, B_addr_list, C_addr_list \u001b[38;5;241m=\u001b[39m addr_generate(i)\n\u001b[0;32m      9\u001b[0m     \u001b[38;5;28;01mfor\u001b[39;00m l \u001b[38;5;129;01min\u001b[39;00m A_addr_list:\n\u001b[0;32m     10\u001b[0m         A_addr_pattern\u001b[38;5;241m.\u001b[39mappend(l)\n",
      "\u001b[1;31mValueError\u001b[0m: too many values to unpack (expected 3)"
     ]
    }
   ],
   "source": [
    "print(addr_patterns())"
   ]
  },
  {
   "cell_type": "code",
   "execution_count": null,
   "metadata": {},
   "outputs": [],
   "source": [
    "\"[-1, 14, 15, 29, 31, 44, 47, 59, 63, 74, 79, 89, 95]\" # -1 goes to 0"
   ]
  },
  {
   "cell_type": "code",
   "execution_count": null,
   "metadata": {},
   "outputs": [],
   "source": [
    "\"\"\"\n",
    "enable code mapping\n",
    "\n",
    "'ABC' = 0 \n",
    "'0AB' = 1\n",
    "'CAB' = 2\n",
    "'BCA' = 3\n",
    "'BC0' = 4\n",
    "'000' = 5\n",
    "\"\"\"\n",
    "\n",
    "\"\"\"\n",
    "addr pattern mapping\n",
    "\n",
    "[-1, 14, 15, 29, 31, 44, 47, 59, 63, 74, 79, 89, 95] # -1 goes to 0\n",
    "\n",
    "0, 1, 2, ..., 12 (same as array index)\n",
    "\"\"\""
   ]
  },
  {
   "cell_type": "code",
   "execution_count": null,
   "metadata": {},
   "outputs": [],
   "source": [
    "def final_mapping():\n",
    "\n",
    "    enable_code_map = ['ABC', '0AB', 'CAB', 'BCA', 'BC0', '000']\n",
    "    addr_pattern_map = [-1, 14, 15, 29, 31, 44, 47, 59, 63, 74, 79, 89, 95]\n",
    "\n",
    "    enable_code_matrix_ = []\n",
    "\n",
    "    for i in range(9): # for all signal\n",
    "        enable_code_matrix = []\n",
    "        matrix = enable_code_generate(i)\n",
    "        #enable_code_matrix.append(f'signal {i+1}')\n",
    "        \n",
    "        for row in matrix: # for all row\n",
    "            enable_code_row = []\n",
    "            for element in row: # for one row\n",
    "                mapped_element = enable_code_map.index(element)\n",
    "                enable_code_row.append(mapped_element)\n",
    "            enable_code_matrix.append(enable_code_row) \n",
    "            \n",
    "        enable_code_matrix_.append(enable_code_matrix)\n",
    "            \n",
    "    #print(enable_code_matrix_)\n",
    "    #print(' ')\n",
    "\n",
    "    A_addr_pattern_matrix_ = []\n",
    "    B_addr_pattern_matrix_ = []\n",
    "    C_addr_pattern_matrix_ = []\n",
    "\n",
    "    for i in range(9): # for all signal\n",
    "        A_addr_pattern_matrix = []\n",
    "        B_addr_pattern_matrix = []\n",
    "        C_addr_pattern_matrix = []\n",
    "        \n",
    "        A_matrix, B_matrix, C_matrix = addr_generate(i)\n",
    "        #A_addr_pattern_matrix.append(f'signal {i+1}')\n",
    "        #B_addr_pattern_matrix.append(f'signal {i+1}')\n",
    "        #C_addr_pattern_matrix.append(f'signal {i+1}')\n",
    "        \n",
    "        for element in A_matrix: # for all row\n",
    "            mapped_element = addr_pattern_map.index(element)\n",
    "            A_addr_pattern_matrix.append(mapped_element)\n",
    "            \n",
    "        for element in B_matrix: # for all row\n",
    "            mapped_element = addr_pattern_map.index(element)\n",
    "            B_addr_pattern_matrix.append(mapped_element)\n",
    "            \n",
    "        for element in C_matrix: # for all row\n",
    "            mapped_element = addr_pattern_map.index(element)\n",
    "            C_addr_pattern_matrix.append(mapped_element)\n",
    "            \n",
    "        A_addr_pattern_matrix_.append(A_addr_pattern_matrix)\n",
    "        B_addr_pattern_matrix_.append(B_addr_pattern_matrix)\n",
    "        C_addr_pattern_matrix_.append(C_addr_pattern_matrix)\n",
    "            \n",
    "    #print(A_addr_pattern_matrix_)\n",
    "    #print(B_addr_pattern_matrix_)\n",
    "    #print(C_addr_pattern_matrix_)\n",
    "    \n",
    "    return enable_code_matrix_, A_addr_pattern_matrix_, B_addr_pattern_matrix_, C_addr_pattern_matrix_"
   ]
  },
  {
   "cell_type": "code",
   "execution_count": null,
   "metadata": {},
   "outputs": [],
   "source": [
    "######################### for .txt file #########################\n",
    "\n",
    "def flatten_3d_array(array_3d):\n",
    "    flattened_array = []\n",
    "    for sublist2d in array_3d:\n",
    "        for sublist1d in sublist2d:\n",
    "            for item in sublist1d:\n",
    "                flattened_array.append(item)\n",
    "    return flattened_array\n",
    "\n",
    "def flatten_2d_array(array_2d):\n",
    "    flattened_array = []\n",
    "    for sublist in array_2d:\n",
    "            for item in sublist:\n",
    "                flattened_array.append(item)\n",
    "    return flattened_array\n",
    "\n",
    "def save_to_txt(array, filename=\"mapping.txt\"):\n",
    "    with open(filename, 'w') as f:\n",
    "        for item in array:\n",
    "            f.write(f\"{item}\\n\")\n",
    "    print(f\"{filename} saved.\")"
   ]
  },
  {
   "cell_type": "code",
   "execution_count": null,
   "metadata": {},
   "outputs": [
    {
     "name": "stdout",
     "output_type": "stream",
     "text": [
      "enable code :\n",
      "[[[0, 0, 0, 0, 0, 0, 0, 0, 0, 0, 0, 0, 0, 0, 0, 0], [3, 3, 3, 3, 3, 3, 3, 3, 3, 3, 3, 3, 3, 3, 3, 3], [2, 2, 2, 2, 2, 2, 2, 2, 2, 2, 2, 2, 2, 2, 2, 2], [0, 0, 0, 0, 0, 0, 0, 0, 0, 0, 0, 0, 0, 0, 0, 0], [3, 3, 3, 3, 3, 3, 3, 3, 3, 3, 3, 3, 3, 3, 3, 3], [2, 2, 2, 2, 2, 2, 2, 2, 2, 2, 2, 2, 2, 2, 2, 2], [0, 0, 0, 0, 0, 0, 0, 0, 0, 0, 0, 0, 0, 0, 0, 0], [3, 3, 3, 3, 3, 3, 3, 3, 3, 3, 3, 3, 3, 3, 3, 3], [2, 2, 2, 2, 2, 2, 2, 2, 2, 2, 2, 2, 2, 2, 2, 2], [0, 0, 0, 0, 0, 0, 0, 0, 0, 0, 0, 0, 0, 0, 0, 0], [3, 3, 3, 3, 3, 3, 3, 3, 3, 3, 3, 3, 3, 3, 3, 3], [2, 2, 2, 2, 2, 2, 2, 2, 2, 2, 2, 2, 2, 2, 2, 2], [0, 0, 0, 0, 0, 0, 0, 0, 0, 0, 0, 0, 0, 0, 0, 0], [3, 3, 3, 3, 3, 3, 3, 3, 3, 3, 3, 3, 3, 3, 3, 3]], [[5, 1, 1, 1, 1, 1, 1, 1, 1, 1, 1, 1, 1, 1, 1, 1], [5, 0, 0, 0, 0, 0, 0, 0, 0, 0, 0, 0, 0, 0, 0, 0], [5, 3, 3, 3, 3, 3, 3, 3, 3, 3, 3, 3, 3, 3, 3, 3], [5, 2, 2, 2, 2, 2, 2, 2, 2, 2, 2, 2, 2, 2, 2, 2], [5, 0, 0, 0, 0, 0, 0, 0, 0, 0, 0, 0, 0, 0, 0, 0], [5, 3, 3, 3, 3, 3, 3, 3, 3, 3, 3, 3, 3, 3, 3, 3], [5, 2, 2, 2, 2, 2, 2, 2, 2, 2, 2, 2, 2, 2, 2, 2], [5, 0, 0, 0, 0, 0, 0, 0, 0, 0, 0, 0, 0, 0, 0, 0], [5, 3, 3, 3, 3, 3, 3, 3, 3, 3, 3, 3, 3, 3, 3, 3], [5, 2, 2, 2, 2, 2, 2, 2, 2, 2, 2, 2, 2, 2, 2, 2], [5, 0, 0, 0, 0, 0, 0, 0, 0, 0, 0, 0, 0, 0, 0, 0], [5, 3, 3, 3, 3, 3, 3, 3, 3, 3, 3, 3, 3, 3, 3, 3], [5, 2, 2, 2, 2, 2, 2, 2, 2, 2, 2, 2, 2, 2, 2, 2], [5, 0, 0, 0, 0, 0, 0, 0, 0, 0, 0, 0, 0, 0, 0, 0]], [[1, 1, 1, 1, 1, 1, 1, 1, 1, 1, 1, 1, 1, 1, 1, 5], [0, 0, 0, 0, 0, 0, 0, 0, 0, 0, 0, 0, 0, 0, 0, 5], [3, 3, 3, 3, 3, 3, 3, 3, 3, 3, 3, 3, 3, 3, 3, 5], [2, 2, 2, 2, 2, 2, 2, 2, 2, 2, 2, 2, 2, 2, 2, 5], [0, 0, 0, 0, 0, 0, 0, 0, 0, 0, 0, 0, 0, 0, 0, 5], [3, 3, 3, 3, 3, 3, 3, 3, 3, 3, 3, 3, 3, 3, 3, 5], [2, 2, 2, 2, 2, 2, 2, 2, 2, 2, 2, 2, 2, 2, 2, 5], [0, 0, 0, 0, 0, 0, 0, 0, 0, 0, 0, 0, 0, 0, 0, 5], [3, 3, 3, 3, 3, 3, 3, 3, 3, 3, 3, 3, 3, 3, 3, 5], [2, 2, 2, 2, 2, 2, 2, 2, 2, 2, 2, 2, 2, 2, 2, 5], [0, 0, 0, 0, 0, 0, 0, 0, 0, 0, 0, 0, 0, 0, 0, 5], [3, 3, 3, 3, 3, 3, 3, 3, 3, 3, 3, 3, 3, 3, 3, 5], [2, 2, 2, 2, 2, 2, 2, 2, 2, 2, 2, 2, 2, 2, 2, 5], [0, 0, 0, 0, 0, 0, 0, 0, 0, 0, 0, 0, 0, 0, 0, 5]], [[0, 0, 0, 0, 0, 0, 0, 0, 0, 0, 0, 0, 0, 0, 0, 5], [3, 3, 3, 3, 3, 3, 3, 3, 3, 3, 3, 3, 3, 3, 3, 5], [2, 2, 2, 2, 2, 2, 2, 2, 2, 2, 2, 2, 2, 2, 2, 5], [0, 0, 0, 0, 0, 0, 0, 0, 0, 0, 0, 0, 0, 0, 0, 5], [3, 3, 3, 3, 3, 3, 3, 3, 3, 3, 3, 3, 3, 3, 3, 5], [2, 2, 2, 2, 2, 2, 2, 2, 2, 2, 2, 2, 2, 2, 2, 5], [0, 0, 0, 0, 0, 0, 0, 0, 0, 0, 0, 0, 0, 0, 0, 5], [3, 3, 3, 3, 3, 3, 3, 3, 3, 3, 3, 3, 3, 3, 3, 5], [2, 2, 2, 2, 2, 2, 2, 2, 2, 2, 2, 2, 2, 2, 2, 5], [0, 0, 0, 0, 0, 0, 0, 0, 0, 0, 0, 0, 0, 0, 0, 5], [3, 3, 3, 3, 3, 3, 3, 3, 3, 3, 3, 3, 3, 3, 3, 5], [2, 2, 2, 2, 2, 2, 2, 2, 2, 2, 2, 2, 2, 2, 2, 5], [0, 0, 0, 0, 0, 0, 0, 0, 0, 0, 0, 0, 0, 0, 0, 5], [4, 4, 4, 4, 4, 4, 4, 4, 4, 4, 4, 4, 4, 4, 4, 5]], [[5, 0, 0, 0, 0, 0, 0, 0, 0, 0, 0, 0, 0, 0, 0, 0], [5, 3, 3, 3, 3, 3, 3, 3, 3, 3, 3, 3, 3, 3, 3, 3], [5, 2, 2, 2, 2, 2, 2, 2, 2, 2, 2, 2, 2, 2, 2, 2], [5, 0, 0, 0, 0, 0, 0, 0, 0, 0, 0, 0, 0, 0, 0, 0], [5, 3, 3, 3, 3, 3, 3, 3, 3, 3, 3, 3, 3, 3, 3, 3], [5, 2, 2, 2, 2, 2, 2, 2, 2, 2, 2, 2, 2, 2, 2, 2], [5, 0, 0, 0, 0, 0, 0, 0, 0, 0, 0, 0, 0, 0, 0, 0], [5, 3, 3, 3, 3, 3, 3, 3, 3, 3, 3, 3, 3, 3, 3, 3], [5, 2, 2, 2, 2, 2, 2, 2, 2, 2, 2, 2, 2, 2, 2, 2], [5, 0, 0, 0, 0, 0, 0, 0, 0, 0, 0, 0, 0, 0, 0, 0], [5, 3, 3, 3, 3, 3, 3, 3, 3, 3, 3, 3, 3, 3, 3, 3], [5, 2, 2, 2, 2, 2, 2, 2, 2, 2, 2, 2, 2, 2, 2, 2], [5, 0, 0, 0, 0, 0, 0, 0, 0, 0, 0, 0, 0, 0, 0, 0], [5, 4, 4, 4, 4, 4, 4, 4, 4, 4, 4, 4, 4, 4, 4, 4]], [[5, 0, 0, 0, 0, 0, 0, 0, 0, 0, 0, 0, 0, 0, 0, 0], [5, 3, 3, 3, 3, 3, 3, 3, 3, 3, 3, 3, 3, 3, 3, 3], [5, 2, 2, 2, 2, 2, 2, 2, 2, 2, 2, 2, 2, 2, 2, 2], [5, 0, 0, 0, 0, 0, 0, 0, 0, 0, 0, 0, 0, 0, 0, 0], [5, 3, 3, 3, 3, 3, 3, 3, 3, 3, 3, 3, 3, 3, 3, 3], [5, 2, 2, 2, 2, 2, 2, 2, 2, 2, 2, 2, 2, 2, 2, 2], [5, 0, 0, 0, 0, 0, 0, 0, 0, 0, 0, 0, 0, 0, 0, 0], [5, 3, 3, 3, 3, 3, 3, 3, 3, 3, 3, 3, 3, 3, 3, 3], [5, 2, 2, 2, 2, 2, 2, 2, 2, 2, 2, 2, 2, 2, 2, 2], [5, 0, 0, 0, 0, 0, 0, 0, 0, 0, 0, 0, 0, 0, 0, 0], [5, 3, 3, 3, 3, 3, 3, 3, 3, 3, 3, 3, 3, 3, 3, 3], [5, 2, 2, 2, 2, 2, 2, 2, 2, 2, 2, 2, 2, 2, 2, 2], [5, 0, 0, 0, 0, 0, 0, 0, 0, 0, 0, 0, 0, 0, 0, 0], [5, 3, 3, 3, 3, 3, 3, 3, 3, 3, 3, 3, 3, 3, 3, 3]], [[1, 1, 1, 1, 1, 1, 1, 1, 1, 1, 1, 1, 1, 1, 1, 1], [0, 0, 0, 0, 0, 0, 0, 0, 0, 0, 0, 0, 0, 0, 0, 0], [3, 3, 3, 3, 3, 3, 3, 3, 3, 3, 3, 3, 3, 3, 3, 3], [2, 2, 2, 2, 2, 2, 2, 2, 2, 2, 2, 2, 2, 2, 2, 2], [0, 0, 0, 0, 0, 0, 0, 0, 0, 0, 0, 0, 0, 0, 0, 0], [3, 3, 3, 3, 3, 3, 3, 3, 3, 3, 3, 3, 3, 3, 3, 3], [2, 2, 2, 2, 2, 2, 2, 2, 2, 2, 2, 2, 2, 2, 2, 2], [0, 0, 0, 0, 0, 0, 0, 0, 0, 0, 0, 0, 0, 0, 0, 0], [3, 3, 3, 3, 3, 3, 3, 3, 3, 3, 3, 3, 3, 3, 3, 3], [2, 2, 2, 2, 2, 2, 2, 2, 2, 2, 2, 2, 2, 2, 2, 2], [0, 0, 0, 0, 0, 0, 0, 0, 0, 0, 0, 0, 0, 0, 0, 0], [3, 3, 3, 3, 3, 3, 3, 3, 3, 3, 3, 3, 3, 3, 3, 3], [2, 2, 2, 2, 2, 2, 2, 2, 2, 2, 2, 2, 2, 2, 2, 2], [0, 0, 0, 0, 0, 0, 0, 0, 0, 0, 0, 0, 0, 0, 0, 0]], [[0, 0, 0, 0, 0, 0, 0, 0, 0, 0, 0, 0, 0, 0, 0, 5], [3, 3, 3, 3, 3, 3, 3, 3, 3, 3, 3, 3, 3, 3, 3, 5], [2, 2, 2, 2, 2, 2, 2, 2, 2, 2, 2, 2, 2, 2, 2, 5], [0, 0, 0, 0, 0, 0, 0, 0, 0, 0, 0, 0, 0, 0, 0, 5], [3, 3, 3, 3, 3, 3, 3, 3, 3, 3, 3, 3, 3, 3, 3, 5], [2, 2, 2, 2, 2, 2, 2, 2, 2, 2, 2, 2, 2, 2, 2, 5], [0, 0, 0, 0, 0, 0, 0, 0, 0, 0, 0, 0, 0, 0, 0, 5], [3, 3, 3, 3, 3, 3, 3, 3, 3, 3, 3, 3, 3, 3, 3, 5], [2, 2, 2, 2, 2, 2, 2, 2, 2, 2, 2, 2, 2, 2, 2, 5], [0, 0, 0, 0, 0, 0, 0, 0, 0, 0, 0, 0, 0, 0, 0, 5], [3, 3, 3, 3, 3, 3, 3, 3, 3, 3, 3, 3, 3, 3, 3, 5], [2, 2, 2, 2, 2, 2, 2, 2, 2, 2, 2, 2, 2, 2, 2, 5], [0, 0, 0, 0, 0, 0, 0, 0, 0, 0, 0, 0, 0, 0, 0, 5], [3, 3, 3, 3, 3, 3, 3, 3, 3, 3, 3, 3, 3, 3, 3, 5]], [[0, 0, 0, 0, 0, 0, 0, 0, 0, 0, 0, 0, 0, 0, 0, 0], [3, 3, 3, 3, 3, 3, 3, 3, 3, 3, 3, 3, 3, 3, 3, 3], [2, 2, 2, 2, 2, 2, 2, 2, 2, 2, 2, 2, 2, 2, 2, 2], [0, 0, 0, 0, 0, 0, 0, 0, 0, 0, 0, 0, 0, 0, 0, 0], [3, 3, 3, 3, 3, 3, 3, 3, 3, 3, 3, 3, 3, 3, 3, 3], [2, 2, 2, 2, 2, 2, 2, 2, 2, 2, 2, 2, 2, 2, 2, 2], [0, 0, 0, 0, 0, 0, 0, 0, 0, 0, 0, 0, 0, 0, 0, 0], [3, 3, 3, 3, 3, 3, 3, 3, 3, 3, 3, 3, 3, 3, 3, 3], [2, 2, 2, 2, 2, 2, 2, 2, 2, 2, 2, 2, 2, 2, 2, 2], [0, 0, 0, 0, 0, 0, 0, 0, 0, 0, 0, 0, 0, 0, 0, 0], [3, 3, 3, 3, 3, 3, 3, 3, 3, 3, 3, 3, 3, 3, 3, 3], [2, 2, 2, 2, 2, 2, 2, 2, 2, 2, 2, 2, 2, 2, 2, 2], [0, 0, 0, 0, 0, 0, 0, 0, 0, 0, 0, 0, 0, 0, 0, 0], [4, 4, 4, 4, 4, 4, 4, 4, 4, 4, 4, 4, 4, 4, 4, 4]]]\n",
      " \n",
      "A address pattern :\n",
      "[[2, 4, 4, 4, 6, 6, 6, 8, 8, 8, 10, 10, 10, 12], [1, 1, 3, 3, 3, 5, 5, 5, 7, 7, 7, 9, 9, 9], [1, 1, 3, 3, 3, 5, 5, 5, 7, 7, 7, 9, 9, 9], [1, 3, 3, 3, 5, 5, 5, 7, 7, 7, 9, 9, 9, 9], [1, 3, 3, 3, 5, 5, 5, 7, 7, 7, 9, 9, 9, 9], [1, 3, 3, 3, 5, 5, 5, 7, 7, 7, 9, 9, 9, 11], [2, 2, 4, 4, 4, 6, 6, 6, 8, 8, 8, 10, 10, 10], [1, 3, 3, 3, 5, 5, 5, 7, 7, 7, 9, 9, 9, 11], [2, 4, 4, 4, 6, 6, 6, 8, 8, 8, 10, 10, 10, 10]]\n",
      " \n",
      "B address pattern :\n",
      "[[2, 2, 4, 4, 4, 6, 6, 6, 8, 8, 8, 10, 10, 10], [1, 1, 1, 3, 3, 3, 5, 5, 5, 7, 7, 7, 9, 9], [1, 1, 1, 3, 3, 3, 5, 5, 5, 7, 7, 7, 9, 9], [1, 1, 3, 3, 3, 5, 5, 5, 7, 7, 7, 9, 9, 9], [1, 1, 3, 3, 3, 5, 5, 5, 7, 7, 7, 9, 9, 9], [1, 1, 3, 3, 3, 5, 5, 5, 7, 7, 7, 9, 9, 9], [2, 2, 2, 4, 4, 4, 6, 6, 6, 8, 8, 8, 10, 10], [1, 1, 3, 3, 3, 5, 5, 5, 7, 7, 7, 9, 9, 9], [2, 2, 4, 4, 4, 6, 6, 6, 8, 8, 8, 10, 10, 10]]\n",
      " \n",
      "C address pattern :\n",
      "[[2, 2, 2, 4, 4, 4, 6, 6, 6, 8, 8, 8, 10, 10], [0, 1, 1, 1, 3, 3, 3, 5, 5, 5, 7, 7, 7, 9], [0, 1, 1, 1, 3, 3, 3, 5, 5, 5, 7, 7, 7, 9], [1, 1, 1, 3, 3, 3, 5, 5, 5, 7, 7, 7, 9, 9], [1, 1, 1, 3, 3, 3, 5, 5, 5, 7, 7, 7, 9, 9], [1, 1, 1, 3, 3, 3, 5, 5, 5, 7, 7, 7, 9, 9], [0, 2, 2, 2, 4, 4, 4, 6, 6, 6, 8, 8, 8, 10], [1, 1, 1, 3, 3, 3, 5, 5, 5, 7, 7, 7, 9, 9], [2, 2, 2, 4, 4, 4, 6, 6, 6, 8, 8, 8, 10, 10]]\n"
     ]
    }
   ],
   "source": [
    "enable_code_matrix_, A_addr_pattern_matrix_, B_addr_pattern_matrix_, C_addr_pattern_matrix_ = final_mapping()\n",
    "\n",
    "print(\"enable code :\")\n",
    "print(enable_code_matrix_)\n",
    "print(' ')\n",
    "print(\"A address pattern :\")\n",
    "print(A_addr_pattern_matrix_)\n",
    "print(' ')\n",
    "print(\"B address pattern :\")\n",
    "print(B_addr_pattern_matrix_)\n",
    "print(' ')\n",
    "print(\"C address pattern :\")\n",
    "print(C_addr_pattern_matrix_)"
   ]
  },
  {
   "cell_type": "code",
   "execution_count": null,
   "metadata": {},
   "outputs": [
    {
     "name": "stdout",
     "output_type": "stream",
     "text": [
      "enable_code_mapping.txt saved.\n",
      "A_addr_mapping.txt saved.\n",
      "B_addr_mapping.txt saved.\n",
      "C_addr_mapping.txt saved.\n"
     ]
    }
   ],
   "source": [
    "save_to_txt(flatten_3d_array(enable_code_matrix_), \"enable_code_mapping.txt\")\n",
    "#save_to_txt(flatten_2d_array(A_addr_pattern_matrix_), \"A_addr_mapping.txt\")\n",
    "#save_to_txt(flatten_2d_array(B_addr_pattern_matrix_), \"B_addr_mapping.txt\")\n",
    "#save_to_txt(flatten_2d_array(C_addr_pattern_matrix_), \"C_addr_mapping.txt\")"
   ]
  },
  {
   "cell_type": "code",
   "execution_count": null,
   "metadata": {},
   "outputs": [],
   "source": [
    "\"\"\"\n",
    "enable code : signal 0 ~ 8, 9 x 14 x 16 -> XXX -> patterns mapping to 0 ~ 5\n",
    "-> Each X is 0 or A or B or C which are mapping to 0, 1, 2, 3 in verilog)\n",
    "\n",
    "addr pattern : signal 0 ~ 8, 9 x 14 (for each A, B, C)\n",
    "\"\"\""
   ]
  }
 ],
 "metadata": {
  "kernelspec": {
   "display_name": "torch_study",
   "language": "python",
   "name": "torch_study"
  },
  "language_info": {
   "codemirror_mode": {
    "name": "ipython",
    "version": 3
   },
   "file_extension": ".py",
   "mimetype": "text/x-python",
   "name": "python",
   "nbconvert_exporter": "python",
   "pygments_lexer": "ipython3",
   "version": "3.12.4"
  }
 },
 "nbformat": 4,
 "nbformat_minor": 2
}
