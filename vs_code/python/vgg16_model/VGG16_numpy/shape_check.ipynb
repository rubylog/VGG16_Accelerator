{
 "cells": [
  {
   "cell_type": "code",
   "execution_count": 1,
   "metadata": {},
   "outputs": [
    {
     "name": "stderr",
     "output_type": "stream",
     "text": [
      "c:\\Users\\conqu\\anaconda3\\envs\\torch_study\\Lib\\site-packages\\torchvision\\models\\_utils.py:208: UserWarning: The parameter 'pretrained' is deprecated since 0.13 and may be removed in the future, please use 'weights' instead.\n",
      "  warnings.warn(\n",
      "c:\\Users\\conqu\\anaconda3\\envs\\torch_study\\Lib\\site-packages\\torchvision\\models\\_utils.py:223: UserWarning: Arguments other than a weight enum or `None` for 'weights' are deprecated since 0.13 and may be removed in the future. The current behavior is equivalent to passing `weights=VGG16_Weights.IMAGENET1K_V1`. You can also use `weights=VGG16_Weights.DEFAULT` to get the most up-to-date weights.\n",
      "  warnings.warn(msg)\n",
      "Downloading: \"https://download.pytorch.org/models/vgg16-397923af.pth\" to C:\\Users\\conqu/.cache\\torch\\hub\\checkpoints\\vgg16-397923af.pth\n",
      "100%|██████████| 528M/528M [00:28<00:00, 19.5MB/s] \n"
     ]
    },
    {
     "data": {
      "text/plain": [
       "VGG(\n",
       "  (features): Sequential(\n",
       "    (0): Conv2d(3, 64, kernel_size=(3, 3), stride=(1, 1), padding=(1, 1))\n",
       "    (1): ReLU(inplace=True)\n",
       "    (2): Conv2d(64, 64, kernel_size=(3, 3), stride=(1, 1), padding=(1, 1))\n",
       "    (3): ReLU(inplace=True)\n",
       "    (4): MaxPool2d(kernel_size=2, stride=2, padding=0, dilation=1, ceil_mode=False)\n",
       "    (5): Conv2d(64, 128, kernel_size=(3, 3), stride=(1, 1), padding=(1, 1))\n",
       "    (6): ReLU(inplace=True)\n",
       "    (7): Conv2d(128, 128, kernel_size=(3, 3), stride=(1, 1), padding=(1, 1))\n",
       "    (8): ReLU(inplace=True)\n",
       "    (9): MaxPool2d(kernel_size=2, stride=2, padding=0, dilation=1, ceil_mode=False)\n",
       "    (10): Conv2d(128, 256, kernel_size=(3, 3), stride=(1, 1), padding=(1, 1))\n",
       "    (11): ReLU(inplace=True)\n",
       "    (12): Conv2d(256, 256, kernel_size=(3, 3), stride=(1, 1), padding=(1, 1))\n",
       "    (13): ReLU(inplace=True)\n",
       "    (14): Conv2d(256, 256, kernel_size=(3, 3), stride=(1, 1), padding=(1, 1))\n",
       "    (15): ReLU(inplace=True)\n",
       "    (16): MaxPool2d(kernel_size=2, stride=2, padding=0, dilation=1, ceil_mode=False)\n",
       "    (17): Conv2d(256, 512, kernel_size=(3, 3), stride=(1, 1), padding=(1, 1))\n",
       "    (18): ReLU(inplace=True)\n",
       "    (19): Conv2d(512, 512, kernel_size=(3, 3), stride=(1, 1), padding=(1, 1))\n",
       "    (20): ReLU(inplace=True)\n",
       "    (21): Conv2d(512, 512, kernel_size=(3, 3), stride=(1, 1), padding=(1, 1))\n",
       "    (22): ReLU(inplace=True)\n",
       "    (23): MaxPool2d(kernel_size=2, stride=2, padding=0, dilation=1, ceil_mode=False)\n",
       "    (24): Conv2d(512, 512, kernel_size=(3, 3), stride=(1, 1), padding=(1, 1))\n",
       "    (25): ReLU(inplace=True)\n",
       "    (26): Conv2d(512, 512, kernel_size=(3, 3), stride=(1, 1), padding=(1, 1))\n",
       "    (27): ReLU(inplace=True)\n",
       "    (28): Conv2d(512, 512, kernel_size=(3, 3), stride=(1, 1), padding=(1, 1))\n",
       "    (29): ReLU(inplace=True)\n",
       "    (30): MaxPool2d(kernel_size=2, stride=2, padding=0, dilation=1, ceil_mode=False)\n",
       "  )\n",
       "  (avgpool): AdaptiveAvgPool2d(output_size=(7, 7))\n",
       "  (classifier): Sequential(\n",
       "    (0): Linear(in_features=25088, out_features=4096, bias=True)\n",
       "    (1): ReLU()\n",
       "    (2): Dropout(p=0.5, inplace=False)\n",
       "    (3): Linear(in_features=4096, out_features=4096, bias=True)\n",
       "    (4): ReLU()\n",
       "    (5): Dropout(p=0.5, inplace=False)\n",
       "    (6): Linear(in_features=4096, out_features=10, bias=True)\n",
       "  )\n",
       ")"
      ]
     },
     "execution_count": 1,
     "metadata": {},
     "output_type": "execute_result"
    }
   ],
   "source": [
    "import torch\n",
    "import torch.nn as nn\n",
    "\n",
    "from torchvision.models.vgg import vgg16\n",
    "\n",
    "device = \"cuda\" if torch.cuda.is_available() else \"cpu\"\n",
    "\n",
    "model = vgg16(pretrained=True)\n",
    "\n",
    "fc = nn.Sequential(\n",
    "       nn.Linear(512 * 7 * 7, 4096),\n",
    "       nn.ReLU(),\n",
    "       nn.Dropout(), # ❷ 드롭아웃층 정의\n",
    "       nn.Linear(4096, 4096),\n",
    "       nn.ReLU(),\n",
    "       nn.Dropout(),\n",
    "       nn.Linear(4096, 10),\n",
    "   )\n",
    "\n",
    "model.classifier = fc\n",
    "model.to(device)\n"
   ]
  },
  {
   "cell_type": "code",
   "execution_count": 2,
   "metadata": {},
   "outputs": [
    {
     "name": "stdout",
     "output_type": "stream",
     "text": [
      "features.0.weight: torch.Size([64, 3, 3, 3])\n",
      "features.0.bias: torch.Size([64])\n",
      "features.2.weight: torch.Size([64, 64, 3, 3])\n",
      "features.2.bias: torch.Size([64])\n",
      "features.5.weight: torch.Size([128, 64, 3, 3])\n",
      "features.5.bias: torch.Size([128])\n",
      "features.7.weight: torch.Size([128, 128, 3, 3])\n",
      "features.7.bias: torch.Size([128])\n",
      "features.10.weight: torch.Size([256, 128, 3, 3])\n",
      "features.10.bias: torch.Size([256])\n",
      "features.12.weight: torch.Size([256, 256, 3, 3])\n",
      "features.12.bias: torch.Size([256])\n",
      "features.14.weight: torch.Size([256, 256, 3, 3])\n",
      "features.14.bias: torch.Size([256])\n",
      "features.17.weight: torch.Size([512, 256, 3, 3])\n",
      "features.17.bias: torch.Size([512])\n",
      "features.19.weight: torch.Size([512, 512, 3, 3])\n",
      "features.19.bias: torch.Size([512])\n",
      "features.21.weight: torch.Size([512, 512, 3, 3])\n",
      "features.21.bias: torch.Size([512])\n",
      "features.24.weight: torch.Size([512, 512, 3, 3])\n",
      "features.24.bias: torch.Size([512])\n",
      "features.26.weight: torch.Size([512, 512, 3, 3])\n",
      "features.26.bias: torch.Size([512])\n",
      "features.28.weight: torch.Size([512, 512, 3, 3])\n",
      "features.28.bias: torch.Size([512])\n",
      "classifier.0.weight: torch.Size([4096, 25088])\n",
      "classifier.0.bias: torch.Size([4096])\n",
      "classifier.3.weight: torch.Size([4096, 4096])\n",
      "classifier.3.bias: torch.Size([4096])\n",
      "classifier.6.weight: torch.Size([10, 4096])\n",
      "classifier.6.bias: torch.Size([10])\n"
     ]
    }
   ],
   "source": [
    "# 모델의 모든 가중치 키 출력\n",
    "for name, param in model.state_dict().items():\n",
    "    print(f\"{name}: {param.shape}\")\n"
   ]
  },
  {
   "cell_type": "code",
   "execution_count": 2,
   "metadata": {},
   "outputs": [
    {
     "data": {
      "text/plain": [
       "===================================================================================================================\n",
       "Layer (type:depth-idx)                   Output Shape              Param #                   Mult-Adds\n",
       "===================================================================================================================\n",
       "VGG                                      [1, 1000]                 --                        --\n",
       "├─Sequential: 1-1                        [1, 512, 7, 7]            --                        --\n",
       "│    └─Conv2d: 2-1                       [1, 64, 224, 224]         1,792                     89,915,392\n",
       "│    └─ReLU: 2-2                         [1, 64, 224, 224]         --                        --\n",
       "│    └─Conv2d: 2-3                       [1, 64, 224, 224]         36,928                    1,852,899,328\n",
       "│    └─ReLU: 2-4                         [1, 64, 224, 224]         --                        --\n",
       "│    └─MaxPool2d: 2-5                    [1, 64, 112, 112]         --                        --\n",
       "│    └─Conv2d: 2-6                       [1, 128, 112, 112]        73,856                    926,449,664\n",
       "│    └─ReLU: 2-7                         [1, 128, 112, 112]        --                        --\n",
       "│    └─Conv2d: 2-8                       [1, 128, 112, 112]        147,584                   1,851,293,696\n",
       "│    └─ReLU: 2-9                         [1, 128, 112, 112]        --                        --\n",
       "│    └─MaxPool2d: 2-10                   [1, 128, 56, 56]          --                        --\n",
       "│    └─Conv2d: 2-11                      [1, 256, 56, 56]          295,168                   925,646,848\n",
       "│    └─ReLU: 2-12                        [1, 256, 56, 56]          --                        --\n",
       "│    └─Conv2d: 2-13                      [1, 256, 56, 56]          590,080                   1,850,490,880\n",
       "│    └─ReLU: 2-14                        [1, 256, 56, 56]          --                        --\n",
       "│    └─Conv2d: 2-15                      [1, 256, 56, 56]          590,080                   1,850,490,880\n",
       "│    └─ReLU: 2-16                        [1, 256, 56, 56]          --                        --\n",
       "│    └─MaxPool2d: 2-17                   [1, 256, 28, 28]          --                        --\n",
       "│    └─Conv2d: 2-18                      [1, 512, 28, 28]          1,180,160                 925,245,440\n",
       "│    └─ReLU: 2-19                        [1, 512, 28, 28]          --                        --\n",
       "│    └─Conv2d: 2-20                      [1, 512, 28, 28]          2,359,808                 1,850,089,472\n",
       "│    └─ReLU: 2-21                        [1, 512, 28, 28]          --                        --\n",
       "│    └─Conv2d: 2-22                      [1, 512, 28, 28]          2,359,808                 1,850,089,472\n",
       "│    └─ReLU: 2-23                        [1, 512, 28, 28]          --                        --\n",
       "│    └─MaxPool2d: 2-24                   [1, 512, 14, 14]          --                        --\n",
       "│    └─Conv2d: 2-25                      [1, 512, 14, 14]          2,359,808                 462,522,368\n",
       "│    └─ReLU: 2-26                        [1, 512, 14, 14]          --                        --\n",
       "│    └─Conv2d: 2-27                      [1, 512, 14, 14]          2,359,808                 462,522,368\n",
       "│    └─ReLU: 2-28                        [1, 512, 14, 14]          --                        --\n",
       "│    └─Conv2d: 2-29                      [1, 512, 14, 14]          2,359,808                 462,522,368\n",
       "│    └─ReLU: 2-30                        [1, 512, 14, 14]          --                        --\n",
       "│    └─MaxPool2d: 2-31                   [1, 512, 7, 7]            --                        --\n",
       "├─AdaptiveAvgPool2d: 1-2                 [1, 512, 7, 7]            --                        --\n",
       "├─Sequential: 1-3                        [1, 1000]                 --                        --\n",
       "│    └─Linear: 2-32                      [1, 4096]                 102,764,544               102,764,544\n",
       "│    └─ReLU: 2-33                        [1, 4096]                 --                        --\n",
       "│    └─Dropout: 2-34                     [1, 4096]                 --                        --\n",
       "│    └─Linear: 2-35                      [1, 4096]                 16,781,312                16,781,312\n",
       "│    └─ReLU: 2-36                        [1, 4096]                 --                        --\n",
       "│    └─Dropout: 2-37                     [1, 4096]                 --                        --\n",
       "│    └─Linear: 2-38                      [1, 1000]                 4,097,000                 4,097,000\n",
       "===================================================================================================================\n",
       "Total params: 138,357,544\n",
       "Trainable params: 138,357,544\n",
       "Non-trainable params: 0\n",
       "Total mult-adds (Units.GIGABYTES): 15.48\n",
       "===================================================================================================================\n",
       "Input size (MB): 0.60\n",
       "Forward/backward pass size (MB): 108.45\n",
       "Params size (MB): 553.43\n",
       "Estimated Total Size (MB): 662.49\n",
       "==================================================================================================================="
      ]
     },
     "execution_count": 2,
     "metadata": {},
     "output_type": "execute_result"
    }
   ],
   "source": [
    "import torch\n",
    "import torchvision.models as models\n",
    "from torchinfo import summary\n",
    "\n",
    "# VGG-16 모델 불러오기\n",
    "model = models.vgg16()\n",
    "\n",
    "# FLOPs 계산\n",
    "summary(model, (1, 3, 224, 224), col_names=[\"output_size\", \"num_params\", \"mult_adds\"])\n"
   ]
  }
 ],
 "metadata": {
  "kernelspec": {
   "display_name": "torch_study",
   "language": "python",
   "name": "python3"
  },
  "language_info": {
   "codemirror_mode": {
    "name": "ipython",
    "version": 3
   },
   "file_extension": ".py",
   "mimetype": "text/x-python",
   "name": "python",
   "nbconvert_exporter": "python",
   "pygments_lexer": "ipython3",
   "version": "3.12.4"
  }
 },
 "nbformat": 4,
 "nbformat_minor": 2
}
