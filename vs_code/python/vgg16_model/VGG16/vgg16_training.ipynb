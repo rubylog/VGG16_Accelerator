{
  "cells": [
    {
      "cell_type": "code",
      "execution_count": null,
      "metadata": {
        "colab": {
          "base_uri": "https://localhost:8080/"
        },
        "id": "u55tFnFlR6Nb",
        "outputId": "c2601554-c22c-46af-cedb-976bf5b9da35"
      },
      "outputs": [
        {
          "name": "stderr",
          "output_type": "stream",
          "text": [
            "/usr/local/lib/python3.11/dist-packages/torchvision/models/_utils.py:208: UserWarning: The parameter 'pretrained' is deprecated since 0.13 and may be removed in the future, please use 'weights' instead.\n",
            "  warnings.warn(\n",
            "/usr/local/lib/python3.11/dist-packages/torchvision/models/_utils.py:223: UserWarning: Arguments other than a weight enum or `None` for 'weights' are deprecated since 0.13 and may be removed in the future. The current behavior is equivalent to passing `weights=VGG16_Weights.IMAGENET1K_V1`. You can also use `weights=VGG16_Weights.DEFAULT` to get the most up-to-date weights.\n",
            "  warnings.warn(msg)\n",
            "Downloading: \"https://download.pytorch.org/models/vgg16-397923af.pth\" to /root/.cache/torch/hub/checkpoints/vgg16-397923af.pth\n",
            "100%|██████████| 528M/528M [00:07<00:00, 74.7MB/s]\n"
          ]
        },
        {
          "data": {
            "text/plain": [
              "VGG(\n",
              "  (features): Sequential(\n",
              "    (0): Conv2d(3, 64, kernel_size=(3, 3), stride=(1, 1), padding=(1, 1))\n",
              "    (1): ReLU(inplace=True)\n",
              "    (2): Conv2d(64, 64, kernel_size=(3, 3), stride=(1, 1), padding=(1, 1))\n",
              "    (3): ReLU(inplace=True)\n",
              "    (4): MaxPool2d(kernel_size=2, stride=2, padding=0, dilation=1, ceil_mode=False)\n",
              "    (5): Conv2d(64, 128, kernel_size=(3, 3), stride=(1, 1), padding=(1, 1))\n",
              "    (6): ReLU(inplace=True)\n",
              "    (7): Conv2d(128, 128, kernel_size=(3, 3), stride=(1, 1), padding=(1, 1))\n",
              "    (8): ReLU(inplace=True)\n",
              "    (9): MaxPool2d(kernel_size=2, stride=2, padding=0, dilation=1, ceil_mode=False)\n",
              "    (10): Conv2d(128, 256, kernel_size=(3, 3), stride=(1, 1), padding=(1, 1))\n",
              "    (11): ReLU(inplace=True)\n",
              "    (12): Conv2d(256, 256, kernel_size=(3, 3), stride=(1, 1), padding=(1, 1))\n",
              "    (13): ReLU(inplace=True)\n",
              "    (14): Conv2d(256, 256, kernel_size=(3, 3), stride=(1, 1), padding=(1, 1))\n",
              "    (15): ReLU(inplace=True)\n",
              "    (16): MaxPool2d(kernel_size=2, stride=2, padding=0, dilation=1, ceil_mode=False)\n",
              "    (17): Conv2d(256, 512, kernel_size=(3, 3), stride=(1, 1), padding=(1, 1))\n",
              "    (18): ReLU(inplace=True)\n",
              "    (19): Conv2d(512, 512, kernel_size=(3, 3), stride=(1, 1), padding=(1, 1))\n",
              "    (20): ReLU(inplace=True)\n",
              "    (21): Conv2d(512, 512, kernel_size=(3, 3), stride=(1, 1), padding=(1, 1))\n",
              "    (22): ReLU(inplace=True)\n",
              "    (23): MaxPool2d(kernel_size=2, stride=2, padding=0, dilation=1, ceil_mode=False)\n",
              "    (24): Conv2d(512, 512, kernel_size=(3, 3), stride=(1, 1), padding=(1, 1))\n",
              "    (25): ReLU(inplace=True)\n",
              "    (26): Conv2d(512, 512, kernel_size=(3, 3), stride=(1, 1), padding=(1, 1))\n",
              "    (27): ReLU(inplace=True)\n",
              "    (28): Conv2d(512, 512, kernel_size=(3, 3), stride=(1, 1), padding=(1, 1))\n",
              "    (29): ReLU(inplace=True)\n",
              "    (30): MaxPool2d(kernel_size=2, stride=2, padding=0, dilation=1, ceil_mode=False)\n",
              "  )\n",
              "  (avgpool): AdaptiveAvgPool2d(output_size=(7, 7))\n",
              "  (classifier): Sequential(\n",
              "    (0): Linear(in_features=25088, out_features=4096, bias=True)\n",
              "    (1): ReLU()\n",
              "    (2): Dropout(p=0.5, inplace=False)\n",
              "    (3): Linear(in_features=4096, out_features=4096, bias=True)\n",
              "    (4): ReLU()\n",
              "    (5): Dropout(p=0.5, inplace=False)\n",
              "    (6): Linear(in_features=4096, out_features=10, bias=True)\n",
              "  )\n",
              ")"
            ]
          },
          "execution_count": 1,
          "metadata": {},
          "output_type": "execute_result"
        }
      ],
      "source": [
        "import torch\n",
        "import torch.nn as nn\n",
        "\n",
        "from torchvision.models.vgg import vgg16\n",
        "\n",
        "device = \"cuda\" if torch.cuda.is_available() else \"cpu\"\n",
        "\n",
        "model = vgg16(pretrained=True)\n",
        "\n",
        "fc = nn.Sequential(\n",
        "       nn.Linear(512 * 7 * 7, 4096),\n",
        "       nn.ReLU(),\n",
        "       nn.Dropout(), # ❷ 드롭아웃층 정의\n",
        "       nn.Linear(4096, 4096),\n",
        "       nn.ReLU(),\n",
        "       nn.Dropout(),\n",
        "       nn.Linear(4096, 10),\n",
        "   )\n",
        "\n",
        "model.classifier = fc\n",
        "model.to(device)\n"
      ]
    },
    {
      "cell_type": "code",
      "execution_count": null,
      "metadata": {},
      "outputs": [],
      "source": [
        "# Feature Extractor 설정 (합성곱층 동결)\n",
        "for param in model.features.parameters():\n",
        "    param.requires_grad = False\n",
        "\n",
        "# FC Layer만 학습하도록 설정\n",
        "for param in model.classifier.parameters():\n",
        "    param.requires_grad = True"
      ]
    },
    {
      "cell_type": "code",
      "execution_count": null,
      "metadata": {
        "colab": {
          "base_uri": "https://localhost:8080/"
        },
        "id": "t7NNFa4nR8g-",
        "outputId": "1ae58016-3ecc-4630-8511-71cd05dbf4e6"
      },
      "outputs": [
        {
          "name": "stdout",
          "output_type": "stream",
          "text": [
            "Files already downloaded and verified\n",
            "Files already downloaded and verified\n"
          ]
        },
        {
          "name": "stderr",
          "output_type": "stream",
          "text": [
            "<ipython-input-6-1630d49f6cce>:27: FutureWarning: `torch.cuda.amp.GradScaler(args...)` is deprecated. Please use `torch.amp.GradScaler('cuda', args...)` instead.\n",
            "  scaler = torch.cuda.amp.GradScaler()\n",
            "Epoch 1/5:   0%|          | 0/1563 [00:00<?, ?it/s]<ipython-input-6-1630d49f6cce>:39: FutureWarning: `torch.cuda.amp.autocast(args...)` is deprecated. Please use `torch.amp.autocast('cuda', args...)` instead.\n",
            "  with torch.cuda.amp.autocast():  # Mixed Precision 적용\n",
            "Epoch 1/5: 100%|██████████| 1563/1563 [07:16<00:00,  3.58it/s, loss=0.191]\n",
            "Epoch 2/5: 100%|██████████| 1563/1563 [07:15<00:00,  3.59it/s, loss=0.758]\n",
            "Epoch 3/5: 100%|██████████| 1563/1563 [07:14<00:00,  3.59it/s, loss=0.0686]\n",
            "Epoch 4/5: 100%|██████████| 1563/1563 [07:14<00:00,  3.60it/s, loss=0.0152]\n",
            "Epoch 5/5: 100%|██████████| 1563/1563 [07:13<00:00,  3.60it/s, loss=0.0122]\n",
            "Epoch 6/5: 100%|██████████| 1563/1563 [07:13<00:00,  3.61it/s, loss=0.034]\n",
            "Epoch 7/5: 100%|██████████| 1563/1563 [07:12<00:00,  3.61it/s, loss=0.0118]\n",
            "Epoch 8/5: 100%|██████████| 1563/1563 [07:12<00:00,  3.62it/s, loss=0.00798]\n",
            "Epoch 9/5: 100%|██████████| 1563/1563 [07:12<00:00,  3.61it/s, loss=0.0399]\n",
            "Epoch 10/5: 100%|██████████| 1563/1563 [07:12<00:00,  3.62it/s, loss=0.053]\n"
          ]
        },
        {
          "name": "stdout",
          "output_type": "stream",
          "text": [
            "🎯 Model saved as 'CIFAR10_trained.pth'\n"
          ]
        },
        {
          "name": "stderr",
          "output_type": "stream",
          "text": [
            "<ipython-input-6-1630d49f6cce>:71: FutureWarning: You are using `torch.load` with `weights_only=False` (the current default value), which uses the default pickle module implicitly. It is possible to construct malicious pickle data which will execute arbitrary code during unpickling (See https://github.com/pytorch/pytorch/blob/main/SECURITY.md#untrusted-models for more details). In a future release, the default value for `weights_only` will be flipped to `True`. This limits the functions that could be executed during unpickling. Arbitrary objects will no longer be allowed to be loaded via this mode unless they are explicitly allowlisted by the user via `torch.serialization.add_safe_globals`. We recommend you start setting `weights_only=True` for any use case where you don't have full control of the loaded file. Please open an issue on GitHub for any issues related to this experimental feature.\n",
            "  model.load_state_dict(torch.load(\"CIFAR_pretrained.pth\", map_location=device))\n"
          ]
        },
        {
          "name": "stdout",
          "output_type": "stream",
          "text": [
            "✅ Final Accuracy: 0.9131\n"
          ]
        }
      ],
      "source": [
        "import tqdm\n",
        "\n",
        "from torchvision.datasets.cifar import CIFAR10\n",
        "from torchvision.transforms import Compose, ToTensor, Resize\n",
        "from torchvision.transforms import RandomHorizontalFlip, RandomCrop, Normalize\n",
        "from torch.utils.data.dataloader import DataLoader\n",
        "import torch.optim as optim\n",
        "\n",
        "transforms = Compose([\n",
        "   Resize(224),\n",
        "   RandomCrop((224, 224), padding=4),\n",
        "   RandomHorizontalFlip(p=0.5),\n",
        "   ToTensor(),\n",
        "   Normalize(mean=(0.4914, 0.4822, 0.4465), std=(0.247, 0.243, 0.261))\n",
        "])\n",
        "\n",
        "training_data = CIFAR10(root=\"./\", train=True, download=True, transform=transforms)\n",
        "test_data = CIFAR10(root=\"./\", train=False, download=True, transform=transforms)\n",
        "\n",
        "train_loader = DataLoader(training_data, batch_size=32, shuffle=True, num_workers=2, pin_memory=True)\n",
        "test_loader = DataLoader(test_data, batch_size=32, shuffle=False, num_workers=2, pin_memory=True)\n",
        "\n",
        "criterion = nn.CrossEntropyLoss()\n",
        "optimizer = optim.AdamW(model.parameters(), lr=1e-4, weight_decay=1e-4)\n",
        "\n",
        "# ✅ Mixed Precision Training 적용\n",
        "scaler = torch.cuda.amp.GradScaler()\n",
        "\n",
        "# ✅ 학습 루프 (속도 최적화)\n",
        "for epoch in range(10):  # 1 epoch → 5 epochs로 변경 (성능 체크)\n",
        "    model.train()\n",
        "    iterator = tqdm.tqdm(train_loader, desc=f\"Epoch {epoch+1}/5\")\n",
        "\n",
        "    for data, label in iterator:\n",
        "        data, label = data.to(device), label.to(device)\n",
        "\n",
        "        optimizer.zero_grad()\n",
        "\n",
        "        with torch.cuda.amp.autocast():  # Mixed Precision 적용\n",
        "            preds = model(data)\n",
        "            loss = criterion(preds, label)\n",
        "\n",
        "        scaler.scale(loss).backward()\n",
        "        scaler.step(optimizer)\n",
        "        scaler.update()\n",
        "\n",
        "        iterator.set_postfix(loss=loss.item())\n",
        "\n",
        "\"\"\"\n",
        "for epoch in range(1):\n",
        "   model.train()\n",
        "   iterator = tqdm.tqdm(train_loader, desc=f\"Epoch {epoch+1}/{30}\") # ➊ 학습 로그 출력\n",
        "   for data, label in iterator:\n",
        "      data, label = data.to(device), label.to(device)\n",
        "      optimizer.zero_grad()\n",
        "\n",
        "      preds = model(data) # 모델의 예측값 출력\n",
        "\n",
        "      loss = criterion(preds, label)\n",
        "      loss.backward()\n",
        "      optimizer.step()\n",
        "\n",
        "      # ❷ tqdm이 출력할 문자열\n",
        "      iterator.set_postfix(loss=loss.item())\n",
        "  \"\"\"\n",
        "\n",
        "torch.save(model.state_dict(), \"CIFAR_pretrained.pth\") # 모델 저장\n",
        "print(\"🎯 Model saved as 'CIFAR10_trained.pth'\")\n",
        "\n",
        "\n",
        "model.load_state_dict(torch.load(\"CIFAR_pretrained.pth\", map_location=device))\n",
        "model.eval()\n",
        "\n",
        "num_corr = 0\n",
        "\n"
      ]
    },
    {
      "cell_type": "code",
      "execution_count": null,
      "metadata": {},
      "outputs": [],
      "source": [
        "import time\n",
        "\n",
        "num_corr = 0  # 정답 개수 초기화\n",
        "start_time = time.time()  # 시작 시간 기록\n",
        "\n",
        "with torch.no_grad():  # 그래디언트 계산 비활성화 (추론 모드)\n",
        "    for data, label in test_loader:\n",
        "        data, label = data.to(device), label.to(device)  # 데이터를 GPU로 이동\n",
        "\n",
        "        output = model(data)  # 모델 예측값\n",
        "        preds = torch.argmax(output, dim=1)  # 가장 높은 확률을 가진 클래스 선택\n",
        "        num_corr += preds.eq(label).sum().item()  # 정답 개수 업데이트\n",
        "\n",
        "end_time = time.time()  # 종료 시간 기록\n",
        "elapsed_time = end_time - start_time  # 실행 시간 계산\n",
        "\n",
        "accuracy = num_corr / len(test_loader.dataset)  # 정확도 계산\n",
        "print(f\"✅ Final Accuracy: {accuracy:.4f}\")  # 소수점 4자리까지 출력\n",
        "print(f\"⏱️ Inference Time: {elapsed_time:.4f} sec\")  # 실행 시간 출력\n"
      ]
    }
  ],
  "metadata": {
    "accelerator": "GPU",
    "colab": {
      "gpuType": "T4",
      "provenance": []
    },
    "kernelspec": {
      "display_name": "torch_study",
      "language": "python",
      "name": "python3"
    },
    "language_info": {
      "name": "python",
      "version": "3.12.4"
    }
  },
  "nbformat": 4,
  "nbformat_minor": 0
}
